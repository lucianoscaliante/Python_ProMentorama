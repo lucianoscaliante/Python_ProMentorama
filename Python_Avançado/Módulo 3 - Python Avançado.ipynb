{
 "cells": [
  {
   "cell_type": "markdown",
   "id": "69428f0e",
   "metadata": {},
   "source": [
    "Tarefa Módulo 3 \n",
    "Desenvolva um Web Crawler para \"navegar\" pelas páginas da Wikipédia:\n",
    "\n",
    "- Escolha uma Pagina da Wikipédia e realize a raspagem dos dados da página"
   ]
  },
  {
   "cell_type": "code",
   "execution_count": 1,
   "id": "668f73da",
   "metadata": {},
   "outputs": [],
   "source": [
    "# pagina que pegue para realizar a atividade e 'https://pt.wikipedia.org/wiki/Python'\n",
    "from requests import get\n",
    "resposta = get(\"https://pt.wikipedia.org/wiki/Python\")"
   ]
  },
  {
   "cell_type": "code",
   "execution_count": 2,
   "id": "a9cfab15",
   "metadata": {},
   "outputs": [
    {
     "name": "stdout",
     "output_type": "stream",
     "text": [
      "Requirement already satisfied: bs4 in c:\\programdata\\anaconda3\\lib\\site-packages (0.0.1)\n",
      "Requirement already satisfied: beautifulsoup4 in c:\\programdata\\anaconda3\\lib\\site-packages (from bs4) (4.9.3)\n",
      "Requirement already satisfied: soupsieve>1.2 in c:\\programdata\\anaconda3\\lib\\site-packages (from beautifulsoup4->bs4) (2.2.1)\n"
     ]
    }
   ],
   "source": [
    "#instalando bibliotecas \n",
    "!pip install bs4"
   ]
  },
  {
   "cell_type": "markdown",
   "id": "bdc64815",
   "metadata": {},
   "source": [
    "- Imprima na tela a mensagem \"Página principal: {Nome da página visitada}\""
   ]
  },
  {
   "cell_type": "code",
   "execution_count": 3,
   "id": "1b42060a",
   "metadata": {},
   "outputs": [
    {
     "name": "stdout",
     "output_type": "stream",
     "text": [
      "Página principal:  Python – Wikipédia, a enciclopédia livre\n"
     ]
    }
   ],
   "source": [
    "#Inportando o objeto BeautifulSoup\n",
    "from bs4 import BeautifulSoup\n",
    "\n",
    "#Usando o objeto BeautifulSoup para pegar as tags da página que estou visitando\n",
    "tag = BeautifulSoup(resposta.text, \"html5lib\")\n",
    "\n",
    "#Ultilizando a função find para trazer o nome da página\n",
    "titulo = tag.find(\"title\")\n",
    "print('Página principal: ', titulo.text)#passei a função text para me trazer so o texto."
   ]
  },
  {
   "cell_type": "markdown",
   "id": "fbfc310d",
   "metadata": {},
   "source": [
    "- Busque no texto da página em que foi feita a respagem todos os links que apontem para outra páginas da Wikipédia"
   ]
  },
  {
   "cell_type": "code",
   "execution_count": 4,
   "id": "a03d8fcd",
   "metadata": {},
   "outputs": [],
   "source": [
    "#bom aqui estou trazendo todos o  link da tag A do html da pagina \n",
    "Linkspagina = tag.find_all(\"a\" , attrs = {\"class\" : \"mw-redirect\"})\n",
    "\n",
    "#aqui estou passando todos os link para dentro de um lista \n",
    "link  = [\"https://pt.wikipedia.org\" + a[\"href\"] for a in Linkspagina]\n"
   ]
  },
  {
   "cell_type": "code",
   "execution_count": 6,
   "id": "2d2a44fa",
   "metadata": {},
   "outputs": [
    {
     "name": "stdout",
     "output_type": "stream",
     "text": [
      "Links da página Principal\n",
      "------------------------------\n"
     ]
    },
    {
     "data": {
      "text/plain": [
       "['https://pt.wikipedia.org/wiki/Multiparadigma',\n",
       " 'https://pt.wikipedia.org/wiki/Vers%C3%A3o_beta',\n",
       " 'https://pt.wikipedia.org/wiki/Site',\n",
       " 'https://pt.wikipedia.org/wiki/Linguagem_de_programa%C3%A7%C3%A3o_de_alto_n%C3%ADvel',\n",
       " 'https://pt.wikipedia.org/wiki/Biblioteca_de_rotinas',\n",
       " 'https://pt.wikipedia.org/wiki/Linguagem_de_programa%C3%A7%C3%A3o_de_alto_n%C3%ADvel',\n",
       " 'https://pt.wikipedia.org/wiki/R%C3%A9ptil',\n",
       " 'https://pt.wikipedia.org/wiki/P%C3%ADton',\n",
       " 'https://pt.wikipedia.org/wiki/Tratamento_de_exce%C3%A7%C3%B5es',\n",
       " 'https://pt.wikipedia.org/wiki/Sistema_operacional',\n",
       " 'https://pt.wikipedia.org/wiki/Heran%C3%A7a_(programa%C3%A7%C3%A3o)',\n",
       " 'https://pt.wikipedia.org/wiki/Sub-rotina',\n",
       " 'https://pt.wikipedia.org/wiki/Encapsulamento',\n",
       " 'https://pt.wikipedia.org/wiki/DARPA',\n",
       " 'https://pt.wikipedia.org/wiki/List_comprehension',\n",
       " 'https://pt.wikipedia.org/wiki/GNU_GPL',\n",
       " 'https://pt.wikipedia.org/wiki/Generator_(ci%C3%AAncia_da_computa%C3%A7%C3%A3o)',\n",
       " 'https://pt.wikipedia.org/wiki/Analisador_sint%C3%A1tico',\n",
       " 'https://pt.wikipedia.org/wiki/SAX',\n",
       " 'https://pt.wikipedia.org/wiki/E/S',\n",
       " 'https://pt.wikipedia.org/wiki/OpenOffice',\n",
       " 'https://pt.wikipedia.org/wiki/Procedimento_armazenado_(banco_de_dados)',\n",
       " 'https://pt.wikipedia.org/wiki/Sistema_gerenciador_de_banco_de_dados',\n",
       " 'https://pt.wikipedia.org/wiki/Easter_egg',\n",
       " 'https://pt.wikipedia.org/wiki/Sub-rotina',\n",
       " 'https://pt.wikipedia.org/wiki/Booleano',\n",
       " 'https://pt.wikipedia.org/wiki/Ponto_flutuante',\n",
       " 'https://pt.wikipedia.org/wiki/Tupla',\n",
       " 'https://pt.wikipedia.org/wiki/Compila%C3%A7%C3%A3o',\n",
       " 'https://pt.wikipedia.org/wiki/Ambiente_de_Desenvolvimento_Integrado',\n",
       " 'https://pt.wikipedia.org/wiki/N%C3%BAcleo_(inform%C3%A1tica)',\n",
       " 'https://pt.wikipedia.org/wiki/Programa%C3%A7%C3%A3o_orientada_a_objeto',\n",
       " 'https://pt.wikipedia.org/wiki/Polimorfismo',\n",
       " 'https://pt.wikipedia.org/wiki/Heran%C3%A7a_(programa%C3%A7%C3%A3o)',\n",
       " 'https://pt.wikipedia.org/wiki/Encapsulamento',\n",
       " 'https://pt.wikipedia.org/wiki/List_comprehension',\n",
       " 'https://pt.wikipedia.org/wiki/C%C3%A1lculo_Lambda',\n",
       " 'https://pt.wikipedia.org/wiki/Generator_(ci%C3%AAncia_da_computa%C3%A7%C3%A3o)',\n",
       " 'https://pt.wikipedia.org/wiki/Tratamento_de_exce%C3%A7%C3%B5es',\n",
       " 'https://pt.wikipedia.org/wiki/Thread_(ci%C3%AAncia_da_computa%C3%A7%C3%A3o)',\n",
       " 'https://pt.wikipedia.org/wiki/Concorr%C3%AAncia_(inform%C3%A1tica)',\n",
       " 'https://pt.wikipedia.org/wiki/Biblioteca_de_rotinas',\n",
       " 'https://pt.wikipedia.org/wiki/Biblioteca_Boost',\n",
       " 'https://pt.wikipedia.org/wiki/API',\n",
       " 'https://pt.wikipedia.org/wiki/Plataforma_(inform%C3%A1tica)',\n",
       " 'https://pt.wikipedia.org/wiki/MacOS_X',\n",
       " 'https://pt.wikipedia.org/wiki/Windows',\n",
       " 'https://pt.wikipedia.org/wiki/PDA',\n",
       " 'https://pt.wikipedia.org/wiki/Sistema_operacional',\n",
       " 'https://pt.wikipedia.org/wiki/C89',\n",
       " 'https://pt.wikipedia.org/wiki/Unix-like',\n",
       " 'https://pt.wikipedia.org/wiki/Thread_(ci%C3%AAncia_da_computa%C3%A7%C3%A3o)',\n",
       " 'https://pt.wikipedia.org/wiki/Plataforma_Java',\n",
       " 'https://pt.wikipedia.org/wiki/Palm',\n",
       " 'https://pt.wikipedia.org/wiki/C%C3%B3digo_livre',\n",
       " 'https://pt.wikipedia.org/wiki/C%C3%B3digo_fonte',\n",
       " 'https://pt.wikipedia.org/wiki/Biblioteca_de_rotinas',\n",
       " 'https://pt.wikipedia.org/wiki/WWW',\n",
       " 'https://pt.wikipedia.org/wiki/Pylons_(framework_web)',\n",
       " 'https://pt.wikipedia.org/wiki/WWW',\n",
       " 'https://pt.wikipedia.org/wiki/TurboGears_(framework_web)',\n",
       " 'https://pt.wikipedia.org/wiki/SSH',\n",
       " 'https://pt.wikipedia.org/wiki/Computa%C3%A7%C3%A3o_distribu%C3%ADda',\n",
       " 'https://pt.wikipedia.org/wiki/Computa%C3%A7%C3%A3o_distribu%C3%ADda',\n",
       " 'https://pt.wikipedia.org/wiki/ZODB',\n",
       " 'https://pt.wikipedia.org/wiki/Persist%C3%AAncia_de_dados',\n",
       " 'https://pt.wikipedia.org/wiki/Biblioteca_de_rotinas',\n",
       " 'https://pt.wikipedia.org/wiki/GUI',\n",
       " 'https://pt.wikipedia.org/wiki/GTK%2B',\n",
       " 'https://pt.wikipedia.org/wiki/Plataforma_(inform%C3%A1tica)',\n",
       " 'https://pt.wikipedia.org/wiki/Licen%C3%A7a_de_Software',\n",
       " 'https://pt.wikipedia.org/wiki/Plataforma_Java',\n",
       " 'https://pt.wikipedia.org/wiki/GTK%2B',\n",
       " 'https://pt.wikipedia.org/wiki/Windows',\n",
       " 'https://pt.wikipedia.org/wiki/Visual_Studio',\n",
       " 'https://pt.wikipedia.org/wiki/Plataforma_Java',\n",
       " 'https://pt.wikipedia.org/wiki/Windows',\n",
       " 'https://pt.wikipedia.org/wiki/Crawler',\n",
       " 'https://pt.wikipedia.org/wiki/Maya_(software)',\n",
       " 'https://pt.wikipedia.org/wiki/Wikimedia',\n",
       " 'https://pt.wikipedia.org/wiki/Wikip%C3%A9dia:Sobre']"
      ]
     },
     "execution_count": 6,
     "metadata": {},
     "output_type": "execute_result"
    }
   ],
   "source": [
    "# estou mostrando todos os link que dão acesso a outra pagina \n",
    "print(\"Links da página Principal\")\n",
    "print('-' *30)\n",
    "link"
   ]
  },
  {
   "cell_type": "markdown",
   "id": "d4f79b60",
   "metadata": {},
   "source": [
    "- Faça uma nova raspagem para cada novo link capturado e imprima em cada um deles a mensagem \"Pagina secundária: {Nome da página visitada}\"."
   ]
  },
  {
   "cell_type": "code",
   "execution_count": 7,
   "id": "219ed44f",
   "metadata": {},
   "outputs": [
    {
     "name": "stdout",
     "output_type": "stream",
     "text": [
      "Página secundária:  Linguagem de programação multiparadigma – Wikipédia, a enciclopédia livre\n",
      "Página secundária:  Ciclo de vida de liberação de software – Wikipédia, a enciclopédia livre\n",
      "Página secundária:  Sítio eletrónico – Wikipédia, a enciclopédia livre\n",
      "Página secundária:  Linguagem de programação – Wikipédia, a enciclopédia livre\n",
      "Página secundária:  Biblioteca (computação) – Wikipédia, a enciclopédia livre\n",
      "Página secundária:  Linguagem de programação – Wikipédia, a enciclopédia livre\n",
      "Página secundária:  Répteis – Wikipédia, a enciclopédia livre\n",
      "Página secundária:  Python (gênero) – Wikipédia, a enciclopédia livre\n",
      "Página secundária:  Tratamento de exceção – Wikipédia, a enciclopédia livre\n",
      "Página secundária:  Sistema operativo – Wikipédia, a enciclopédia livre\n",
      "Página secundária:  Herança (programação orientada a objetos) – Wikipédia, a enciclopédia livre\n",
      "Página secundária:  Método (programação) – Wikipédia, a enciclopédia livre\n",
      "Página secundária:  Programação orientada a objetos – Wikipédia, a enciclopédia livre\n",
      "Página secundária:  Defense Advanced Research Projects Agency – Wikipédia, a enciclopédia livre\n",
      "Página secundária:  Compreensão de lista – Wikipédia, a enciclopédia livre\n",
      "Página secundária:  GNU General Public License – Wikipédia, a enciclopédia livre\n",
      "Página secundária:  Gerador (ciência da computação) – Wikipédia, a enciclopédia livre\n",
      "Página secundária:  Análise sintática (computação) – Wikipédia, a enciclopédia livre\n",
      "Página secundária:  Simple API for XML – Wikipédia, a enciclopédia livre\n",
      "Página secundária:  Entrada/saída – Wikipédia, a enciclopédia livre\n",
      "Página secundária:  OpenOffice.org – Wikipédia, a enciclopédia livre\n",
      "Página secundária:  Procedimento armazenado – Wikipédia, a enciclopédia livre\n",
      "Página secundária:  Sistema de gerenciamento de banco de dados – Wikipédia, a enciclopédia livre\n",
      "Página secundária:  Ovo de páscoa (virtual) – Wikipédia, a enciclopédia livre\n",
      "Página secundária:  Método (programação) – Wikipédia, a enciclopédia livre\n",
      "Página secundária:  Boolean – Wikipédia, a enciclopédia livre\n",
      "Página secundária:  Vírgula flutuante – Wikipédia, a enciclopédia livre\n",
      "Página secundária:  Énuplo – Wikipédia, a enciclopédia livre\n",
      "Página secundária:  Compilador – Wikipédia, a enciclopédia livre\n",
      "Página secundária:  Ambiente de desenvolvimento integrado – Wikipédia, a enciclopédia livre\n",
      "Página secundária:  Núcleo (sistema operacional) – Wikipédia, a enciclopédia livre\n",
      "Página secundária:  Orientação a objetos – Wikipédia, a enciclopédia livre\n",
      "Página secundária:  Polimorfismo (ciência da computação) – Wikipédia, a enciclopédia livre\n",
      "Página secundária:  Herança (programação orientada a objetos) – Wikipédia, a enciclopédia livre\n",
      "Página secundária:  Programação orientada a objetos – Wikipédia, a enciclopédia livre\n",
      "Página secundária:  Compreensão de lista – Wikipédia, a enciclopédia livre\n",
      "Página secundária:  Cálculo lambda – Wikipédia, a enciclopédia livre\n",
      "Página secundária:  Gerador (ciência da computação) – Wikipédia, a enciclopédia livre\n",
      "Página secundária:  Tratamento de exceção – Wikipédia, a enciclopédia livre\n",
      "Página secundária:  Thread (computação) – Wikipédia, a enciclopédia livre\n",
      "Página secundária:  Concorrência (ciência da computação) – Wikipédia, a enciclopédia livre\n",
      "Página secundária:  Biblioteca (computação) – Wikipédia, a enciclopédia livre\n",
      "Página secundária:  Boost (bibliotecas de C++) – Wikipédia, a enciclopédia livre\n",
      "Página secundária:  Interface de programação de aplicações – Wikipédia, a enciclopédia livre\n",
      "Página secundária:  Plataforma (computação) – Wikipédia, a enciclopédia livre\n",
      "Página secundária:  macOS – Wikipédia, a enciclopédia livre\n",
      "Página secundária:  Microsoft Windows – Wikipédia, a enciclopédia livre\n",
      "Página secundária:  Personal digital assistant – Wikipédia, a enciclopédia livre\n",
      "Página secundária:  Sistema operativo – Wikipédia, a enciclopédia livre\n",
      "Página secundária:  C (linguagem de programação) – Wikipédia, a enciclopédia livre\n",
      "Página secundária:  Sistema operacional tipo Unix – Wikipédia, a enciclopédia livre\n",
      "Página secundária:  Thread (computação) – Wikipédia, a enciclopédia livre\n",
      "Página secundária:  Java (plataforma de software) – Wikipédia, a enciclopédia livre\n",
      "Página secundária:  palmOne, Inc. – Wikipédia, a enciclopédia livre\n",
      "Página secundária:  Software livre – Wikipédia, a enciclopédia livre\n",
      "Página secundária:  Código-fonte – Wikipédia, a enciclopédia livre\n",
      "Página secundária:  Biblioteca (computação) – Wikipédia, a enciclopédia livre\n",
      "Página secundária:  World Wide Web – Wikipédia, a enciclopédia livre\n",
      "Página secundária:  Pylons project – Wikipédia, a enciclopédia livre\n",
      "Página secundária:  World Wide Web – Wikipédia, a enciclopédia livre\n",
      "Página secundária:  TurboGears – Wikipédia, a enciclopédia livre\n",
      "Página secundária:  Secure Shell – Wikipédia, a enciclopédia livre\n",
      "Página secundária:  Sistema de processamento distribuído – Wikipédia, a enciclopédia livre\n",
      "Página secundária:  Sistema de processamento distribuído – Wikipédia, a enciclopédia livre\n",
      "Página secundária:  Zope Object Database – Wikipédia, a enciclopédia livre\n",
      "Página secundária:  Persistência (ciência da computação) – Wikipédia, a enciclopédia livre\n",
      "Página secundária:  Biblioteca (computação) – Wikipédia, a enciclopédia livre\n",
      "Página secundária:  Interface gráfica do utilizador – Wikipédia, a enciclopédia livre\n",
      "Página secundária:  GTK – Wikipédia, a enciclopédia livre\n",
      "Página secundária:  Plataforma (computação) – Wikipédia, a enciclopédia livre\n",
      "Página secundária:  Licença de software – Wikipédia, a enciclopédia livre\n",
      "Página secundária:  Java (plataforma de software) – Wikipédia, a enciclopédia livre\n",
      "Página secundária:  GTK – Wikipédia, a enciclopédia livre\n",
      "Página secundária:  Microsoft Windows – Wikipédia, a enciclopédia livre\n",
      "Página secundária:  Microsoft Visual Studio – Wikipédia, a enciclopédia livre\n",
      "Página secundária:  Java (plataforma de software) – Wikipédia, a enciclopédia livre\n",
      "Página secundária:  Microsoft Windows – Wikipédia, a enciclopédia livre\n",
      "Página secundária:  Rastreador web – Wikipédia, a enciclopédia livre\n",
      "Página secundária:  Autodesk Maya – Wikipédia, a enciclopédia livre\n",
      "Página secundária:  Movimento Wikimedia – Wikipédia, a enciclopédia livre\n",
      "Página secundária:  Wikipédia:Sobre a Wikipédia – Wikipédia, a enciclopédia livre\n"
     ]
    }
   ],
   "source": [
    "# aqui criei um for para os link obtido da página prioncipal \n",
    "# e chamei o método get para acessar cada link e pega seu title de cada link !!!!!\n",
    "for pv in link:\n",
    "    acesso = get(pv)\n",
    "    tags2 = BeautifulSoup(acesso.text, \"html5lib\")\n",
    "    titulo2 = tags2.find(\"title\")\n",
    "    print('Página secundária: ', titulo2.text)\n"
   ]
  }
 ],
 "metadata": {
  "kernelspec": {
   "display_name": "Python 3",
   "language": "python",
   "name": "python3"
  },
  "language_info": {
   "codemirror_mode": {
    "name": "ipython",
    "version": 3
   },
   "file_extension": ".py",
   "mimetype": "text/x-python",
   "name": "python",
   "nbconvert_exporter": "python",
   "pygments_lexer": "ipython3",
   "version": "3.8.8"
  }
 },
 "nbformat": 4,
 "nbformat_minor": 5
}
