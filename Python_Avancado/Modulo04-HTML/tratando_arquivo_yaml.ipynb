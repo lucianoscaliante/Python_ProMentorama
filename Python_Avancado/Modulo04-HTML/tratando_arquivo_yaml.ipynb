{
 "cells": [
  {
   "cell_type": "markdown",
   "id": "6ad24898",
   "metadata": {},
   "source": [
    "Tarefa para o modulo 4:\n",
    "- Desenvolva um web Scraper para obter um arquivo YAML:\n",
    "- Realize a raspagem dos dados da página https://www.w3schools.io/file/yaml-sample-example/\n",
    "- Extraia o exemplo de arquivo YAML da página \n",
    "- Utilize REGEX para etrair os comentários contidos no exemplo e imprima na tela \n",
    "- Escreva um arquivo YAML os exemplo extraido do arquivo YAML"
   ]
  },
  {
   "cell_type": "code",
   "execution_count": 2,
   "id": "ce6687e2",
   "metadata": {},
   "outputs": [],
   "source": [
    "#importando a biblioteca resquests \n",
    "from requests import get\n",
    "\n",
    "#importando a biblioteca RE\n",
    "from re import findall, search\n",
    "\n",
    "#importando a biblioteca YAML\n",
    "from yaml import dump\n",
    "\n",
    "#acessando o site https://www.w3schools.io/file/yaml-sample-example com a função get \n",
    "arquivo_yaml = get(\"https://www.w3schools.io/file/yaml-sample-example/\")"
   ]
  },
  {
   "cell_type": "code",
   "execution_count": 4,
   "id": "f42c1feb",
   "metadata": {},
   "outputs": [],
   "source": [
    "#importando a biblioteca BS4 \n",
    "from bs4 import BeautifulSoup\n",
    "\n",
    "#usando o objeto BeautifulSoup para acessar o HTML da página\n",
    "#passei a resposta que tive do método get para o objeto BeaufulSoup para ter controle do html\n",
    "tag = BeautifulSoup(arquivo_yaml.text, \"html5lib\")"
   ]
  },
  {
   "cell_type": "code",
   "execution_count": 5,
   "id": "9611343c",
   "metadata": {},
   "outputs": [
    {
     "data": {
      "text/plain": [
       "['# yaml document begining',\n",
       " '# comment syntax',\n",
       " '# basic syntax - key and value separated by colon and space before the value',\n",
       " 'key',\n",
       " '# Scalar data types',\n",
       " 'integerValue',\n",
       " '1',\n",
       " '# integer value',\n",
       " 'floatingValue',\n",
       " '1',\n",
       " '# floating vale',\n",
       " 'stringValue',\n",
       " '# string with double quotes',\n",
       " 'stringValue',\n",
       " '# string with single quotes',\n",
       " 'stringValue',\n",
       " '# string without quotes',\n",
       " '# boolean values - true or false',\n",
       " '# Multiline string with literal block syntax -preserved new lines',\n",
       " 'string1',\n",
       " '\\n',\n",
       " '   Line1\\n',\n",
       " '   line2\\n',\n",
       " '   \"line3\"',\n",
       " '# Multiline strings with folded block syntax - new lines are not preserved, leading and trailing spaces are ignore',\n",
       " 'string1',\n",
       " '\\n',\n",
       " '   Line1\\n',\n",
       " '   line2\\n',\n",
       " '   \"line3\"',\n",
       " '# Collection sequence data types',\n",
       " '# sequence arraylist example',\n",
       " '# another way of sequence  syntax example',\n",
       " '### dictionary',\n",
       " 'mysqldatabase',\n",
       " 'hostname',\n",
       " 'port',\n",
       " '3012',\n",
       " 'username',\n",
       " 'password']"
      ]
     },
     "execution_count": 5,
     "metadata": {},
     "output_type": "execute_result"
    }
   ],
   "source": [
    "#extraindo os exemplos YAML da pagina \n",
    "dados_yaml = tag.find_all(\"span\", attrs = {\"class\" :[\"c\",\"nt\",\"1\",\"sd\",\"m\"]})\n",
    "\n",
    "#passando para um for para tratar a lista\n",
    "resultado = [lista.text for lista in dados_yaml]\n",
    "resultado"
   ]
  },
  {
   "cell_type": "code",
   "execution_count": 19,
   "id": "3c767b78",
   "metadata": {},
   "outputs": [
    {
     "data": {
      "text/plain": [
       "[['yaml', 'document', 'begining'],\n",
       " ['comment', 'syntax'],\n",
       " ['basic',\n",
       "  'syntax',\n",
       "  'key',\n",
       "  'and',\n",
       "  'value',\n",
       "  'separated',\n",
       "  'by',\n",
       "  'colon',\n",
       "  'and',\n",
       "  'space',\n",
       "  'before',\n",
       "  'the',\n",
       "  'value'],\n",
       " ['key'],\n",
       " ['Scalar', 'data', 'types'],\n",
       " ['integerValue'],\n",
       " ['1'],\n",
       " ['integer', 'value'],\n",
       " ['floatingValue'],\n",
       " ['1'],\n",
       " ['floating', 'vale'],\n",
       " ['stringValue'],\n",
       " ['string', 'with', 'double', 'quotes'],\n",
       " ['stringValue'],\n",
       " ['string', 'with', 'single', 'quotes'],\n",
       " ['stringValue'],\n",
       " ['string', 'without', 'quotes'],\n",
       " ['boolean', 'values', 'true', 'or', 'false'],\n",
       " ['Multiline',\n",
       "  'string',\n",
       "  'with',\n",
       "  'literal',\n",
       "  'block',\n",
       "  'syntax',\n",
       "  'preserved',\n",
       "  'new',\n",
       "  'lines'],\n",
       " ['string1'],\n",
       " [],\n",
       " ['Line1'],\n",
       " ['line2'],\n",
       " ['line3'],\n",
       " ['Multiline',\n",
       "  'strings',\n",
       "  'with',\n",
       "  'folded',\n",
       "  'block',\n",
       "  'syntax',\n",
       "  'new',\n",
       "  'lines',\n",
       "  'are',\n",
       "  'not',\n",
       "  'preserved',\n",
       "  'leading',\n",
       "  'and',\n",
       "  'trailing',\n",
       "  'spaces',\n",
       "  'are',\n",
       "  'ignore'],\n",
       " ['string1'],\n",
       " [],\n",
       " ['Line1'],\n",
       " ['line2'],\n",
       " ['line3'],\n",
       " ['Collection', 'sequence', 'data', 'types'],\n",
       " ['sequence', 'arraylist', 'example'],\n",
       " ['another', 'way', 'of', 'sequence', 'syntax', 'example'],\n",
       " ['dictionary'],\n",
       " ['mysqldatabase'],\n",
       " ['hostname'],\n",
       " ['port'],\n",
       " ['3012'],\n",
       " ['username'],\n",
       " ['password']]"
      ]
     },
     "execution_count": 19,
     "metadata": {},
     "output_type": "execute_result"
    }
   ],
   "source": [
    "#tirando as # dos daods raspado usando o regex\n",
    "nova_lista = []\n",
    "for j in [lista.text for lista in dados_yaml]:\n",
    "    nova_lista.append(findall(r\"\\w+\", j))\n",
    "\n",
    "nova_lista"
   ]
  },
  {
   "cell_type": "code",
   "execution_count": 21,
   "id": "961353c7",
   "metadata": {},
   "outputs": [
    {
     "data": {
      "text/plain": [
       "['yaml document begining',\n",
       " 'comment syntax',\n",
       " 'basic syntax key and value separated by colon and space before the value',\n",
       " 'key',\n",
       " 'Scalar data types',\n",
       " 'integerValue',\n",
       " '1',\n",
       " 'integer value',\n",
       " 'floatingValue',\n",
       " '1',\n",
       " 'floating vale',\n",
       " 'stringValue',\n",
       " 'string with double quotes',\n",
       " 'stringValue',\n",
       " 'string with single quotes',\n",
       " 'stringValue',\n",
       " 'string without quotes',\n",
       " 'boolean values true or false',\n",
       " 'Multiline string with literal block syntax preserved new lines',\n",
       " 'string1',\n",
       " '',\n",
       " 'Line1',\n",
       " 'line2',\n",
       " 'line3',\n",
       " 'Multiline strings with folded block syntax new lines are not preserved leading and trailing spaces are ignore',\n",
       " 'string1',\n",
       " '',\n",
       " 'Line1',\n",
       " 'line2',\n",
       " 'line3',\n",
       " 'Collection sequence data types',\n",
       " 'sequence arraylist example',\n",
       " 'another way of sequence syntax example',\n",
       " 'dictionary',\n",
       " 'mysqldatabase',\n",
       " 'hostname',\n",
       " 'port',\n",
       " '3012',\n",
       " 'username',\n",
       " 'password']"
      ]
     },
     "execution_count": 21,
     "metadata": {},
     "output_type": "execute_result"
    }
   ],
   "source": [
    "# Unindo as strings que foram separadas \n",
    "lista_unida = []\n",
    "\n",
    "for i in nova_lista:\n",
    "    lista_unida.append(\" \".join(i))\n",
    "    \n",
    "lista_unida"
   ]
  },
  {
   "cell_type": "code",
   "execution_count": 22,
   "id": "f330f08b",
   "metadata": {},
   "outputs": [],
   "source": [
    "#Escrevendo um arquivo yaml\n",
    "with open(\"Arquivo_yaml.yaml\", \"w\") as file:\n",
    "    dump(lista_unida, file)"
   ]
  }
 ],
 "metadata": {
  "kernelspec": {
   "display_name": "Python 3",
   "language": "python",
   "name": "python3"
  },
  "language_info": {
   "codemirror_mode": {
    "name": "ipython",
    "version": 3
   },
   "file_extension": ".py",
   "mimetype": "text/x-python",
   "name": "python",
   "nbconvert_exporter": "python",
   "pygments_lexer": "ipython3",
   "version": "3.8.8"
  }
 },
 "nbformat": 4,
 "nbformat_minor": 5
}
