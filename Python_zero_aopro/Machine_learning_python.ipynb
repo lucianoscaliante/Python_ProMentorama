{
 "cells": [
  {
   "cell_type": "markdown",
   "id": "429698e0",
   "metadata": {},
   "source": [
    "1 - Crie um Modelo de classificação de imagens, a partir da importação da base de dados do Sci-kit Learn. Este Modelo deve ter as seguintes caracteristicas:\n",
    "\n",
    "A) Ultilize a base de dados Mnist Dataset\n",
    "B) Divida a base de treinamento e teste em 80/20.\n",
    "C) Ultilize a técnica de Cross Validation (K-fold = 5)\n",
    "D) Ultilize a técnica de Random Search ou grid Serch para escolha dos melhores parâmetros\n",
    "E) Faça a impressão da matriz de confusão para o modelo"
   ]
  },
  {
   "cell_type": "code",
   "execution_count": 14,
   "id": "f5561b57",
   "metadata": {},
   "outputs": [],
   "source": [
    "#importando Bibliotecas \n",
    "import matplotlib.pyplot as plt\n",
    "\n",
    "#importando o datasets\n",
    "from sklearn import datasets, svm, metrics\n",
    "from sklearn.model_selection import train_test_split"
   ]
  },
  {
   "cell_type": "code",
   "execution_count": 15,
   "id": "b69aa147",
   "metadata": {},
   "outputs": [
    {
     "data": {
      "image/png": "[encoded data removed]",
      "text/plain": [
       "<Figure size 720x216 with 4 Axes>"
      ]
     },
     "metadata": {
      "needs_background": "light"
     },
     "output_type": "display_data"
    }
   ],
   "source": [
    "#importando o mnist dataset\n",
    "digits = datasets.load_digits()\n",
    "\n",
    "_, axes = plt.subplots(nrows=1, ncols=4, figsize=(10, 3))\n",
    "for ax, image, label in zip(axes, digits.images, digits.target):\n",
    "    ax.set_axis_off()\n",
    "    ax.imshow(image, cmap=plt.cm.gray_r, interpolation='nearest')\n",
    "    ax.set_title('Training: %i ' % label)"
   ]
  },
  {
   "cell_type": "code",
   "execution_count": 16,
   "id": "fa8bdc30",
   "metadata": {},
   "outputs": [],
   "source": [
    "# Classificação com SVM\n",
    "n_samples = len(digits.images)\n",
    "data = digits.images.reshape((n_samples, -1))\n",
    "\n",
    "#Criando a classificação\n",
    "clf = svm.SVC(gamma=0.001)\n",
    "\n",
    "#Separando 80% para treinamento e 20% teste\n",
    "x_train, x_test, y_train, y_test = train_test_split(\n",
    "    data, digits.target, test_size=0.8, shuffle=False)\n",
    "\n",
    "#lendo variaveis de teinamento\n",
    "clf.fit(x_train, y_train)\n",
    "\n",
    "#Preparando valores de sub teste\n",
    "predicted = clf.predict(x_test)"
   ]
  },
  {
   "cell_type": "code",
   "execution_count": 17,
   "id": "accaff1c",
   "metadata": {},
   "outputs": [
    {
     "data": {
      "image/png": "[encoded data removed]",
      "text/plain": [
       "<Figure size 720x216 with 4 Axes>"
      ]
     },
     "metadata": {
      "needs_background": "light"
     },
     "output_type": "display_data"
    }
   ],
   "source": [
    "_, axes = plt.subplots(nrows=1, ncols=4, figsize=(10, 3))\n",
    "for ax, image, prediction in zip(axes, x_test, predicted):\n",
    "    ax.set_axis_off()\n",
    "    image = image.reshape(8, 8)\n",
    "    ax.imshow(image, cmap=plt.cm.gray_r, interpolation='nearest')\n",
    "    ax.set_title(f'Prediction: {prediction}')"
   ]
  },
  {
   "cell_type": "code",
   "execution_count": 18,
   "id": "c0d731b3",
   "metadata": {},
   "outputs": [
    {
     "name": "stdout",
     "output_type": "stream",
     "text": [
      "Relatório de classificação para classificador SVC(gamma=0.001):\n",
      "              precision    recall  f1-score   support\n",
      "\n",
      "           0       0.99      0.99      0.99       140\n",
      "           1       0.90      0.73      0.80       144\n",
      "           2       0.86      0.93      0.89       141\n",
      "           3       0.98      0.76      0.86       145\n",
      "           4       0.98      0.97      0.97       147\n",
      "           5       0.96      0.92      0.94       146\n",
      "           6       0.97      0.96      0.96       145\n",
      "           7       0.96      0.91      0.94       144\n",
      "           8       0.84      0.87      0.86       140\n",
      "           9       0.65      0.91      0.76       146\n",
      "\n",
      "    accuracy                           0.89      1438\n",
      "   macro avg       0.91      0.89      0.90      1438\n",
      "weighted avg       0.91      0.89      0.90      1438\n",
      "\n",
      "\n"
     ]
    }
   ],
   "source": [
    "print(f'Relatório de classificação para classificador {clf}:\\n'\n",
    "      f'{metrics.classification_report(y_test, predicted)}\\n')"
   ]
  },
  {
   "cell_type": "code",
   "execution_count": 19,
   "id": "01ca6942",
   "metadata": {},
   "outputs": [],
   "source": [
    "#importando pacote para salvar \n",
    "import pickle\n",
    "#salvando modelo\n",
    "modelo_treinado = pickle.dumps(clf)"
   ]
  },
  {
   "cell_type": "code",
   "execution_count": 20,
   "id": "6f510753",
   "metadata": {},
   "outputs": [
    {
     "data": {
      "text/plain": [
       "array([0])"
      ]
     },
     "execution_count": 20,
     "metadata": {},
     "output_type": "execute_result"
    }
   ],
   "source": [
    "#carregando o modelo treinado\n",
    "modelo_treinado = pickle.loads(modelo_treinado)\n",
    "modelo_treinado.predict(data[0:1])"
   ]
  },
  {
   "cell_type": "code",
   "execution_count": 21,
   "id": "f8cf96f0",
   "metadata": {},
   "outputs": [
    {
     "data": {
      "text/plain": [
       "array([ 0.,  0.,  6., 13., 16., 10.,  0.,  0.,  0.,  4., 13.,  5.,  4.,\n",
       "       16.,  0.,  0.,  0.,  0.,  0.,  1., 10.,  8.,  0.,  0.,  0.,  0.,\n",
       "        0., 12., 16.,  3.,  0.,  0.,  0.,  0.,  0.,  3.,  7., 15.,  1.,\n",
       "        0.,  0.,  0.,  0.,  0.,  0.,  9.,  8.,  0.,  0.,  0.,  8.,  6.,\n",
       "        3., 11.,  7.,  0.,  0.,  0.,  4., 14., 16., 11.,  1.,  0.])"
      ]
     },
     "execution_count": 21,
     "metadata": {},
     "output_type": "execute_result"
    }
   ],
   "source": [
    "#olhando conteudo do vetor de teste \n",
    "x_test[0]"
   ]
  },
  {
   "cell_type": "code",
   "execution_count": 22,
   "id": "67a8426b",
   "metadata": {},
   "outputs": [
    {
     "data": {
      "text/plain": [
       "array([3])"
      ]
     },
     "execution_count": 22,
     "metadata": {},
     "output_type": "execute_result"
    }
   ],
   "source": [
    "#fazendo predição do novo dado com o modelo carregado\n",
    "modelo_treinado.predict([x_test[0]])"
   ]
  },
  {
   "cell_type": "code",
   "execution_count": 23,
   "id": "00b4495d",
   "metadata": {},
   "outputs": [
    {
     "name": "stdout",
     "output_type": "stream",
     "text": [
      "Matriz de Confusão:\n",
      " [[139   0   0   0   1   0   0   0   0   0]\n",
      " [  0 105  18   0   0   1   4   0  13   3]\n",
      " [  0   0 131   2   0   0   0   0   0   8]\n",
      " [  0   0   2 110   0   3   0   2   4  24]\n",
      " [  0   0   0   0 142   0   0   1   0   4]\n",
      " [  0   0   0   0   2 134   1   0   0   9]\n",
      " [  2   1   0   0   0   0 139   0   3   0]\n",
      " [  0   0   0   0   0   0   0 131   1  12]\n",
      " [  0   3   2   0   0   1   0   0 122  12]\n",
      " [  0   8   0   0   0   1   0   2   2 133]]\n"
     ]
    },
    {
     "data": {
      "image/png": "[encoded data removed]",
      "text/plain": [
       "<Figure size 432x288 with 2 Axes>"
      ]
     },
     "metadata": {
      "needs_background": "light"
     },
     "output_type": "display_data"
    }
   ],
   "source": [
    "#avaliando modelo \n",
    "disp = metrics.plot_confusion_matrix(clf, x_test, y_test)\n",
    "disp.figure_.suptitle('Matriz de Confusão')\n",
    "print(f'Matriz de Confusão:\\n {disp.confusion_matrix}')\n",
    "\n",
    "plt.show()\n",
    "      "
   ]
  },
  {
   "cell_type": "markdown",
   "id": "bfd21951",
   "metadata": {},
   "source": [
    "2 - Após a etapa de treinamento , analise o modelo respondedo as questões a seguir:\n",
    "\n",
    "\n",
    "A) Qual a acurácia do modelo? Justique \n",
    "R: A acurácia do modelo foi boa , ela foi de 89% de acertividade então em minha opinião foi otimo o desenpenho do modelo\n",
    "\n",
    "B) O modelo teve uma boa performance? Justifique\n",
    "R: No meu ponto de vista ele teve sim quse em todos sua precisão foi acima dos 80%.\n",
    "\n",
    "C) Quais foram os melhores parâmetro escolhidos ? Justique\n",
    "R: Pelo que vi quandio troquei o parâmetro de treino dele, quanto mas treino mas performace.\n",
    "\n",
    "D) Quais as p´rincipais dificuldade encontradas para criação do seu modelo de classificação?\n",
    "R: Olha creio que muitas ainda pelo fato ser novidade mechendo com Machine Learning, mas com o tempo vou aprimorando meus desenvolvimento.\n"
   ]
  },
  {
   "cell_type": "markdown",
   "id": "41d3c814",
   "metadata": {},
   "source": [
    "3 - Faça uma pesquisa para conhecer um pouco mais sobre o universo de Machine Learning e responda as questôesa seguir:\n",
    "\n",
    "A) Qual é a diferença entre um parâmetro de modelo e um algoritmo de aprendizagem de hiperparâmetro?\n",
    "R: Hiperparâmetro é tudo que nós informamos para um modelo ou algoritmo antes dele começar o treino, Parãmetro e tudo que ele aprende com o treino.\n",
    "\n",
    "B) Você pode citar quatro dos principais desafios do aprendizado de máquina ?\n",
    "R: Péssimas intenções, Parâmetros de sistema nem sempre incluem ética, Correlações falsas, Ciclos de feedback.\n",
    "\n",
    "C) Se o seu modelo tem um ótimo desempenho nos dados de treinamento, mas generaliza mal para novas instãncias, o que está acontecendo? Você pode citar três soluçôes possiveis?\n",
    "R:Se um modelo tiver um ótimo desempenho nos dados de treinamento, mas generalizar mal para novas instâncias, é provável que o modelo esteja sobrescrevendo os dados de treinamento (ou tivemos muita sorte com os dados de treinamento). As possíveis soluções para o overfitting é basicamente obter mais dados e simplificando o modelo. (selecionando um algoritmo mais simples, reduzindo o número de parâmetros ou recursos utilizados ou regularizando o modelo) ou  reduzindo o ruído nos dados de treinamento.\n",
    "\n",
    "D) O que é um conjunto de teste e por que você deveria usa-lo?\n",
    "R: Um conjunto de teste é usado para estimar o erro de generalização que um modelo fará em novas instâncias, antes que o modelo seja lançado na produção.\n",
    "\n",
    "E) Qual é o propósito de um conjunto de validação?\n",
    "R: Um conjunto de validação é usado para comparar modelos. Permite selecionar o melhor modelo e ajustar os hiperparâmetros.\n",
    "\n",
    "F) O que pode dar errado se você ajustar hiperparâmetro usando o conjunto de teste ?\n",
    "R: Se você ajustar os hiperparâmetros usando o conjunto de testes, corre o risco de superajustá-lo, e o erro de generalização que você medir será otimista(você pode iniciar um modelo com desempenho pior do que o esperado)."
   ]
  }
 ],
 "metadata": {
  "kernelspec": {
   "display_name": "Python 3",
   "language": "python",
   "name": "python3"
  },
  "language_info": {
   "codemirror_mode": {
    "name": "ipython",
    "version": 3
   },
   "file_extension": ".py",
   "mimetype": "text/x-python",
   "name": "python",
   "nbconvert_exporter": "python",
   "pygments_lexer": "ipython3",
   "version": "3.8.8"
  }
 },
 "nbformat": 4,
 "nbformat_minor": 5
}
