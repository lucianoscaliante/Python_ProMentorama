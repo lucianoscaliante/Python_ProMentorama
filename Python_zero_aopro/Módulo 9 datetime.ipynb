{
 "cells": [
  {
   "cell_type": "markdown",
   "id": "d0cedc7c",
   "metadata": {},
   "source": [
    "Módulo 9 \n",
    "1 - Escreva scripts para mostrar os diversos formatos de tempo conforme se segue:\n",
    "A) Impressão da época padrão\n",
    "B) Segundo que se passaram desde a época\n",
    "C) Imprime dados do tempo no momento atual\n",
    "D) Cria um objeto time.localtime() e imprime o valor das horas, minuto e segundos\n",
    "E) Imprime se no momento atual estamos em horario de verão ou não"
   ]
  },
  {
   "cell_type": "code",
   "execution_count": 13,
   "id": "d91536b2",
   "metadata": {},
   "outputs": [
    {
     "name": "stdout",
     "output_type": "stream",
     "text": [
      "A época padrão é: time.struct_time(tm_year=1970, tm_mon=1, tm_mday=1, tm_hour=0, tm_min=0, tm_sec=0, tm_wday=3, tm_yday=1, tm_isdst=0)\n",
      "-------------------\n",
      "segundos desta época:  1641165651.7941124\n",
      "-------------------\n",
      "Tempo atual: Sun Jan  2 20:20:51 2022\n",
      "-------------------\n",
      "-------------------\n",
      "Não estamos no Horario de verão\n"
     ]
    }
   ],
   "source": [
    "import time\n",
    "\n",
    "epoca = time.gmtime(0)\n",
    "print(\"A época padrão é:\" ,epoca)\n",
    "\n",
    "print(\"-------------------\")\n",
    "\n",
    "segundos = time.time()\n",
    "print(\"segundos desta época: \", segundos)\n",
    "\n",
    "print(\"-------------------\")\n",
    "\n",
    "tempo_atual = time.ctime(segundos)\n",
    "print(\"Tempo atual:\", tempo_atual)\n",
    "\n",
    "print(\"-------------------\")\n",
    "\n",
    "valor_horas = time.localtime()\n",
    "time.strftime(\"Valor da hora atual: %H:%M:%S\", time.localtime())\n",
    "\n",
    "print(\"-------------------\")\n",
    "\n",
    "if valor_horas[8] == 0:\n",
    "    print(\"Não estamos no Horario de verão\")\n",
    "else:\n",
    "    print(\"Estamos no Horario de verão\")\n"
   ]
  },
  {
   "cell_type": "markdown",
   "id": "89ae6a96",
   "metadata": {},
   "source": [
    "2 - Escreva um programa para imprimir um string \" Olá, mundo !\"cinco veses, em que cada uma das impressões demore três segundos entre uma e outra "
   ]
  },
  {
   "cell_type": "code",
   "execution_count": 15,
   "id": "422d6961",
   "metadata": {},
   "outputs": [
    {
     "name": "stdout",
     "output_type": "stream",
     "text": [
      "Olá, Mundo!\n",
      "Olá, Mundo!\n",
      "Olá, Mundo!\n",
      "Olá, Mundo!\n",
      "Olá, Mundo!\n"
     ]
    }
   ],
   "source": [
    "import time \n",
    "\n",
    "frase = \"Olá, Mundo!\"\n",
    "i = 0\n",
    "\n",
    "for i in range (5):\n",
    "    time.sleep(3)\n",
    "    print(frase)"
   ]
  },
  {
   "cell_type": "markdown",
   "id": "080d20a1",
   "metadata": {},
   "source": [
    "3 - Adapte o programa acima para calcular o tempo de processamento do script. Utilize time.time() e perf_counter() para apresentar a variação do tempo"
   ]
  },
  {
   "cell_type": "code",
   "execution_count": 19,
   "id": "9b0b56fb",
   "metadata": {},
   "outputs": [
    {
     "name": "stdout",
     "output_type": "stream",
     "text": [
      "Olá, Mundo!\n",
      "Olá, Mundo!\n",
      "Olá, Mundo!\n",
      "Olá, Mundo!\n",
      "Olá, Mundo!\n",
      "O tempo total de execução é: 15.033225297927856\n",
      "O tempo decorrido em segundos é: 15.033679799999845\n"
     ]
    }
   ],
   "source": [
    "from time import perf_counter\n",
    "import time\n",
    "p_start = perf_counter()\n",
    "start = time.time()\n",
    "def hello():\n",
    "    frase = \"Olá, Mundo!\"\n",
    "    i = 0 \n",
    "    for i in range(5):\n",
    "        time.sleep(3)\n",
    "        print(frase)\n",
    "        \n",
    "hello()\n",
    "end = time.time()\n",
    "p_end = perf_counter()\n",
    "print(\"O tempo total de execução é:\", end - start)\n",
    "print(\"O tempo decorrido em segundos é:\", p_end - p_start)"
   ]
  },
  {
   "cell_type": "markdown",
   "id": "c5556068",
   "metadata": {},
   "source": [
    "4 - Escreva um programa para obter uma lista de datas entre duas datas. Considere o passo de um dia e reproduza o intervalo das datas entre 16/10/87 e 25/10/87"
   ]
  },
  {
   "cell_type": "code",
   "execution_count": 27,
   "id": "02f70e5c",
   "metadata": {},
   "outputs": [
    {
     "name": "stdout",
     "output_type": "stream",
     "text": [
      "1987-10-16\n",
      "1987-10-17\n",
      "1987-10-18\n",
      "1987-10-19\n",
      "1987-10-20\n",
      "1987-10-21\n",
      "1987-10-22\n",
      "1987-10-23\n",
      "1987-10-24\n",
      "1987-10-25\n"
     ]
    }
   ],
   "source": [
    "import datetime\n",
    "\n",
    "day_delta = datetime.timedelta(days=1)\n",
    "data_inicial = datetime.date(1987,10,16)\n",
    "\n",
    "data_final = datetime.date(1987,10,25)\n",
    "data_final = data_inicial + 10*day_delta\n",
    "\n",
    "for i in range ((data_final - data_inicial).days):\n",
    "    print(data_inicial + i*day_delta)\n"
   ]
  },
  {
   "cell_type": "markdown",
   "id": "80a56dfd",
   "metadata": {},
   "source": [
    "5 - Escreva scripts para mostrar os diversos formatos de data e tempo conforme se segue:\n",
    "A) Data e hora atual\n",
    "B) Ano atual\n",
    "C) Mês atual\n",
    "D) Número da samena do ano \n",
    "E) Dia atual da semana \n",
    "F) Dia do ano\n",
    "G) Dia do mês \n",
    "H) Dia da semana"
   ]
  },
  {
   "cell_type": "code",
   "execution_count": 42,
   "id": "aea7694d",
   "metadata": {},
   "outputs": [
    {
     "name": "stdout",
     "output_type": "stream",
     "text": [
      "Data e Hora atual\n",
      "2022-01-02 22:37:36.659091\n",
      "------------------\n",
      "Ano atual\n",
      "2022\n",
      "------------------\n",
      "Mês atual\n",
      "1\n",
      "------------------\n",
      "Numero da semana do ano \n",
      "(2021, 52, 7)\n",
      "------------------\n",
      "Dia da semana atual\n",
      "Sunday\n",
      "------------------\n",
      "Dia do ano\n",
      "Sunday do ano de 2022\n",
      "------------------\n",
      "Dia do Mês\n",
      "Sunday do mês January\n",
      "------------------\n",
      "Dia da semana\n",
      "Sunday\n"
     ]
    }
   ],
   "source": [
    "import datetime\n",
    "\n",
    "data_atual = datetime.datetime.now()\n",
    "\n",
    "print(\"Data e Hora atual\")\n",
    "print(data_atual)\n",
    "print(\"------------------\")\n",
    "print(\"Ano atual\")\n",
    "print(data_atual.year)\n",
    "print(\"------------------\")\n",
    "print(\"Mês atual\")\n",
    "print(data_atual.month)\n",
    "print(\"------------------\")\n",
    "print(\"Numero da semana do ano \")\n",
    "print(data_atual.isocalendar())\n",
    "print(\"------------------\")\n",
    "print(\"Dia da semana atual\")\n",
    "print(data_atual.today().strftime('%A'))\n",
    "print(\"------------------\")\n",
    "print(\"Dia do ano\")\n",
    "print(data_atual.today().strftime('%A'), \"do ano de\", data_atual.year)\n",
    "print(\"------------------\")\n",
    "print(\"Dia do Mês\")\n",
    "print(data_atual.today().strftime('%A'), \"do mês\", data_atual.today().strftime('%B'))\n",
    "print(\"------------------\")\n",
    "print(\"Dia da semana\")\n",
    "print(data_atual.today().strftime('%A'))"
   ]
  },
  {
   "cell_type": "markdown",
   "id": "5a90edb2",
   "metadata": {},
   "source": [
    "6 - Escreva um programa python capaz de converter um string em data e hora \n",
    "string de exemplo: 01 de janeiro de 2021 13h53\n",
    "resultado esperado: 2021-01-01-13:53:00"
   ]
  },
  {
   "cell_type": "code",
   "execution_count": 82,
   "id": "8d6baa71",
   "metadata": {},
   "outputs": [
    {
     "name": "stdout",
     "output_type": "stream",
     "text": [
      "2021-01-01 13:53:00\n"
     ]
    }
   ],
   "source": [
    "import datetime\n",
    "\n",
    "date_time_str = 'Jan 1 2021 13:53PM'\n",
    "date_time_obj = datetime.datetime.strptime(date_time_str, '%b %d %Y %H:%M%p')\n",
    "\n",
    "print(date_time_obj) "
   ]
  },
  {
   "cell_type": "markdown",
   "id": "a7f80fa1",
   "metadata": {},
   "source": [
    "7 - Escreva um programa Python para subtrair 8 dias da data atual.\n",
    "data atual :25/01/2021\n",
    "data esperada: 17/01/2021"
   ]
  },
  {
   "cell_type": "code",
   "execution_count": 83,
   "id": "6bc6f735",
   "metadata": {},
   "outputs": [
    {
     "name": "stdout",
     "output_type": "stream",
     "text": [
      "2021-01-17\n"
     ]
    }
   ],
   "source": [
    "import datetime \n",
    "\n",
    "day_delta = datetime.timedelta(days=1)\n",
    "data_inicial = datetime.date(2021,1,25)\n",
    "data_esperada = data_inicial - 8*day_delta\n",
    "\n",
    "print(data_esperada)"
   ]
  },
  {
   "cell_type": "markdown",
   "id": "c7309af9",
   "metadata": {},
   "source": [
    "8 - Escreva um programa em python para caucular o número de dias entre dois datetime. A diferença entre os dias deve se igual 10"
   ]
  },
  {
   "cell_type": "code",
   "execution_count": 87,
   "id": "4e3f4871",
   "metadata": {},
   "outputs": [
    {
     "name": "stdout",
     "output_type": "stream",
     "text": [
      "O número de dias entre as data é: 10\n"
     ]
    }
   ],
   "source": [
    "import datetime \n",
    "\n",
    "data1 = datetime.date(2021,2,10)\n",
    "data2 = datetime.date(2021,2,20)\n",
    "\n",
    "diferenca = abs((data2 - data1).days)\n",
    "\n",
    "    \n",
    "print(\"O número de dias entre as data é:\", diferenca)"
   ]
  },
  {
   "cell_type": "markdown",
   "id": "3d013800",
   "metadata": {},
   "source": [
    "9 -  Faça um programa que calcule a diferença em dias entre antes de ontem e depois de amanhã"
   ]
  },
  {
   "cell_type": "code",
   "execution_count": 88,
   "id": "717cc0d9",
   "metadata": {},
   "outputs": [
    {
     "name": "stdout",
     "output_type": "stream",
     "text": [
      "Hoje é: 2022-01-03\n",
      "Ontem foi dia  2022-01-02\n",
      "Amanha será dia  2022-01-04\n"
     ]
    }
   ],
   "source": [
    "import datetime\n",
    "\n",
    "hoje = datetime.date.today()\n",
    "print('Hoje é:', hoje)\n",
    "\n",
    "ontem = hoje - datetime.timedelta(days=1)\n",
    "print('Ontem foi dia ', ontem)\n",
    "\n",
    "amanha = hoje + datetime.timedelta(days=1)\n",
    "print('Amanha será dia ', amanha)"
   ]
  },
  {
   "cell_type": "code",
   "execution_count": null,
   "id": "fdc71bb0",
   "metadata": {},
   "outputs": [],
   "source": []
  }
 ],
 "metadata": {
  "kernelspec": {
   "display_name": "Python 3",
   "language": "python",
   "name": "python3"
  },
  "language_info": {
   "codemirror_mode": {
    "name": "ipython",
    "version": 3
   },
   "file_extension": ".py",
   "mimetype": "text/x-python",
   "name": "python",
   "nbconvert_exporter": "python",
   "pygments_lexer": "ipython3",
   "version": "3.8.8"
  }
 },
 "nbformat": 4,
 "nbformat_minor": 5
}
