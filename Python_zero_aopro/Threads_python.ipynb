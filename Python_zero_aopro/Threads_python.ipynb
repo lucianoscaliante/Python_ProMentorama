{
 "cells": [
  {
   "cell_type": "markdown",
   "id": "d75be27e",
   "metadata": {},
   "source": [
    "Módulo 8 - Exercicios\n"
   ]
  },
  {
   "cell_type": "markdown",
   "id": "09d89636",
   "metadata": {},
   "source": [
    "1 - Crie uma função que imprime a mensagem \"Processo1\" e siga as instruções:"
   ]
  },
  {
   "cell_type": "code",
   "execution_count": 8,
   "id": "580f328c",
   "metadata": {},
   "outputs": [
    {
     "name": "stdout",
     "output_type": "stream",
     "text": [
      "Processo 1\n"
     ]
    }
   ],
   "source": [
    "from threading import Thread\n",
    "\n",
    "def poc1():\n",
    "    print(\"Processo 1\")\n",
    "    \n",
    "#A) Inicialize essa função a partir de um objeto threadt1    \n",
    "t1 = Thread(target=poc1).start()\n",
    "\n"
   ]
  },
  {
   "cell_type": "code",
   "execution_count": 31,
   "id": "bda21770",
   "metadata": {},
   "outputs": [
    {
     "data": {
      "text/plain": [
       "5"
      ]
     },
     "execution_count": 31,
     "metadata": {},
     "output_type": "execute_result"
    }
   ],
   "source": [
    "import threading\n",
    "#B) Consulte se o objrto thread criado está ativo\n",
    "threading.active_count()"
   ]
  },
  {
   "cell_type": "code",
   "execution_count": 22,
   "id": "95ad4c1b",
   "metadata": {
    "scrolled": true
   },
   "outputs": [
    {
     "data": {
      "text/plain": [
       "<_MainThread(MainThread, started 4044)>"
      ]
     },
     "execution_count": 22,
     "metadata": {},
     "output_type": "execute_result"
    }
   ],
   "source": [
    "import threading\n",
    "#C) Consulte o nome da thread ativa atualmente\n",
    "threading.currentThread()"
   ]
  },
  {
   "cell_type": "code",
   "execution_count": 21,
   "id": "9182ebeb",
   "metadata": {},
   "outputs": [
    {
     "data": {
      "text/plain": [
       "4044"
      ]
     },
     "execution_count": 21,
     "metadata": {},
     "output_type": "execute_result"
    }
   ],
   "source": [
    "import threading\n",
    "#D) Consulte indentificador de thead do thread atual\n",
    "threading.get_ident()"
   ]
  },
  {
   "cell_type": "code",
   "execution_count": 20,
   "id": "a49d95f7",
   "metadata": {},
   "outputs": [
    {
     "data": {
      "text/plain": [
       "5"
      ]
     },
     "execution_count": 20,
     "metadata": {},
     "output_type": "execute_result"
    }
   ],
   "source": [
    "import threading\n",
    "#E) Consulte a quantidade de threads ativas atualmente\n",
    "threading.active_count()\n"
   ]
  },
  {
   "cell_type": "code",
   "execution_count": 23,
   "id": "84a1949e",
   "metadata": {},
   "outputs": [
    {
     "data": {
      "text/plain": [
       "5"
      ]
     },
     "execution_count": 23,
     "metadata": {},
     "output_type": "execute_result"
    }
   ],
   "source": [
    "import threading \n",
    "#F) Retorne uma lista com todos os threads ativos atualmente\n",
    "threading.active_count()"
   ]
  },
  {
   "cell_type": "markdown",
   "id": "9c950842",
   "metadata": {},
   "source": [
    "2 - Crie duas funções , proc1 e proc2 que imprime a mensagem \"Processo1 \" e \"Processo 2\"\n",
    "respectivamente e siga as instruções:\n"
   ]
  },
  {
   "cell_type": "code",
   "execution_count": 30,
   "id": "f22212af",
   "metadata": {},
   "outputs": [
    {
     "name": "stdout",
     "output_type": "stream",
     "text": [
      "Processo 1 -  1\n",
      "Processo 1 -  2\n",
      "Processo 1 -  3\n",
      "Processo 1 -  4\n",
      "Processo 1 -  5\n",
      "Processo 1 -  6\n",
      "Processo 1 -  7\n",
      "Processo 1 -  8\n",
      "Processo 1 -  9\n",
      "Processo 1 -  10\n",
      "Processo 2 -  1\n",
      "Processo 2 -  2\n",
      "Processo 2 -  3\n",
      "Processo 2 -  4\n",
      "Processo 2 -  5\n",
      "Processo 2 -  6\n",
      "Processo 2 -  7\n",
      "Processo 2 -  8\n",
      "Processo 2 -  9\n",
      "Processo 2 -  10\n"
     ]
    }
   ],
   "source": [
    "from threading import Thread\n",
    "\n",
    "def proc1():\n",
    "    for x in range(1,11):\n",
    "        print(\"Processo 1 - \", x)\n",
    "        x +=1 \n",
    "\n",
    "def proc2():\n",
    "    for x in range(1,11):\n",
    "        print(\"Processo 2 - \", x)\n",
    "        x +=1 \n",
    "        \n",
    "t1 = Thread(target=proc1).start()\n",
    "t2 = Thread(target=proc2).start()"
   ]
  },
  {
   "cell_type": "code",
   "execution_count": 28,
   "id": "554be198",
   "metadata": {},
   "outputs": [
    {
     "data": {
      "text/plain": [
       "5"
      ]
     },
     "execution_count": 28,
     "metadata": {},
     "output_type": "execute_result"
    }
   ],
   "source": [
    "import threading\n",
    "\n",
    "#B) COnsulte se os objetos criados estão ativos\n",
    "threading.active_count()"
   ]
  },
  {
   "cell_type": "code",
   "execution_count": 32,
   "id": "f1857fb2",
   "metadata": {},
   "outputs": [
    {
     "name": "stdout",
     "output_type": "stream",
     "text": [
      "Processo 1 -  1\n",
      "Processo 2 -  1\n",
      "Processo 1 -  2\n",
      "Processo 1 -  3\n",
      "Processo 1 -  4\n",
      "Processo 1 -  5\n",
      "Processo 1 -  6\n",
      "Processo 2 -  2\n",
      "Processo 1 -  7\n",
      "Processo 1 -  8\n",
      "Processo 1 -  9\n",
      "Processo 1 -  10\n",
      "Processo 2 -  3\n",
      "Processo 2 -  4\n",
      "Processo 2 -  5\n",
      "Processo 2 -  6\n"
     ]
    }
   ],
   "source": [
    "#C) importeo modulo time e crie um delay de tempo em cada uma das funções, sendo sleep 5 e 30 segundos\n",
    "#em proc1 e proc2 respectivamente\n",
    "from threading import Thread\n",
    "import time\n",
    "def proc1():\n",
    "    for x in range(1,11):\n",
    "        print(\"Processo 1 - \", x)\n",
    "        time.sleep(5)\n",
    "        x +=1 \n",
    "\n",
    "def proc2():\n",
    "    for x in range(1,11):\n",
    "        print(\"Processo 2 - \", x)\n",
    "        time.sleep(30)\n",
    "        x +=1 \n",
    "        \n",
    "t1 = Thread(target=proc1).start()\n",
    "t2 = Thread(target=proc2).start()"
   ]
  },
  {
   "cell_type": "code",
   "execution_count": 35,
   "id": "3a96a29f",
   "metadata": {},
   "outputs": [
    {
     "name": "stdout",
     "output_type": "stream",
     "text": [
      "Processo 1 -  1\n",
      "Processo 2 -  1\n",
      "Processo 2 -  3\n",
      "Processo 1 -  2\n",
      "Processo 1 -  2\n",
      "Processo 1 -  3\n",
      "Processo 2 -  9\n",
      "Processo 1 -  3\n",
      "Processo 1 -  4\n",
      "Processo 1 -  4\n",
      "Processo 1 -  5\n",
      "Processo 1 -  5\n",
      "Processo 1 -  6\n",
      "Processo 1 -  6\n",
      "11\n",
      "Processo 2 -  2\n",
      "Processo 1 -  7\n",
      "11\n",
      "Processo 2 -  2\n",
      "Processo 1 -  7\n",
      "Processo 2 -  4\n",
      "Processo 1 -  8\n",
      "Processo 1 -  8\n",
      "Processo 2 -  10\n",
      "Processo 1 -  9\n",
      "Processo 1 -  9\n",
      "Processo 1 -  10\n",
      "Processo 1 -  10\n",
      "9\n",
      "Processo 2 -  3\n",
      "9\n",
      "Processo 2 -  3\n",
      "Processo 2 -  5\n",
      "8\n",
      "Processo 2 -  4\n",
      "8\n",
      "Processo 2 -  4\n",
      "Processo 2 -  6\n",
      "8\n",
      "Processo 2 -  5\n",
      "8\n",
      "Processo 2 -  5\n",
      "Processo 2 -  7\n",
      "8\n",
      "Processo 2 -  6\n",
      "8\n",
      "Processo 2 -  6\n",
      "Processo 2 -  8\n"
     ]
    }
   ],
   "source": [
    "#D) Consulte rapidamente (antes de 30 segundos) se cada um dos objetos thread esta ativo e imprimana tel\n",
    "\n",
    "from threading import Thread\n",
    "import time\n",
    "def proc1():\n",
    "    for x in range(1,11):\n",
    "        print(\"Processo 1 - \", x)\n",
    "        time.sleep(5)\n",
    "        x +=1 \n",
    "\n",
    "def proc2():\n",
    "    for x in range(1,11):\n",
    "        print(\"Processo 2 - \", x)\n",
    "        time.sleep(30)\n",
    "        print(threading.active_count())\n",
    "        x +=1 \n",
    "        \n",
    "t1 = Thread(target=proc1).start()\n",
    "t2 = Thread(target=proc2).start()"
   ]
  }
 ],
 "metadata": {
  "kernelspec": {
   "display_name": "Python 3",
   "language": "python",
   "name": "python3"
  },
  "language_info": {
   "codemirror_mode": {
    "name": "ipython",
    "version": 3
   },
   "file_extension": ".py",
   "mimetype": "text/x-python",
   "name": "python",
   "nbconvert_exporter": "python",
   "pygments_lexer": "ipython3",
   "version": "3.8.8"
  }
 },
 "nbformat": 4,
 "nbformat_minor": 5
}
