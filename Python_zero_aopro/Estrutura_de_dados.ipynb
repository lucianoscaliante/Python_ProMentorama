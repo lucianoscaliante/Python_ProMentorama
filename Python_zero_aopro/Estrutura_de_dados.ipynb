{
 "cells": [
  {
   "cell_type": "markdown",
   "id": "1f84bf4d",
   "metadata": {},
   "source": [
    "Exercicios do Módulo 2\n",
    "\n",
    "1 - Crie um programa que leia nome, sexo e idade de várias pessoas, quardando os dados de cada pessoa em um dicionários\n",
    "em uma lista.No final, mostre:\n",
    "A) Quantas pessoas foram cadastradas\n",
    "B) A Média de idade\n",
    "C) Uma lista com as mulheres\n",
    "D) Uma lista de pessoas com idade acima da média "
   ]
  },
  {
   "cell_type": "code",
   "execution_count": 27,
   "id": "1cc1d50b",
   "metadata": {},
   "outputs": [
    {
     "name": "stdout",
     "output_type": "stream",
     "text": [
      "Digite o nome : luciano\n",
      "Digite o sexo da pessoa [M/F]:m\n",
      "Digite a idade da peesoa :25\n",
      "Deseja continuar ? : [S/N]s\n",
      "Digite o nome : elque\n",
      "Digite o sexo da pessoa [M/F]:f\n",
      "Digite a idade da peesoa :44\n",
      "Deseja continuar ? : [S/N]s\n",
      "Digite o nome : kauan\n",
      "Digite o sexo da pessoa [M/F]:m\n",
      "Digite a idade da peesoa :15\n",
      "Deseja continuar ? : [S/N]s\n",
      "Digite o nome : jessica\n",
      "Digite o sexo da pessoa [M/F]:2\n",
      "Por favor digite so  M ou F : \n",
      "Digite o sexo da pessoa [M/F]:f\n",
      "Digite a idade da peesoa :24\n",
      "Deseja continuar ? : [S/N]n\n",
      "--------------------------------------------------\n",
      "Temos 4 pessoas cadastradas !!!!!\n",
      "--------------------------------------------------\n",
      "A média das pessoas cadastrada é 27.00 anos\n",
      "--------------------------------------------------\n",
      "Total de mulheres cadastrada é\n",
      "elque \n",
      "jessica \n",
      "--------------------------------------------------\n",
      "Pessoas que estão com a idade acima da media\n",
      "elque\n",
      "--------------------------------------------------\n"
     ]
    }
   ],
   "source": [
    "def linhas():\n",
    "    print('-' * 50)\n",
    "    \n",
    "    \n",
    "cadastro = list()\n",
    "pessoas = dict()\n",
    "soma = 0 \n",
    "media = 0\n",
    "\n",
    "\n",
    "while True:\n",
    "    pessoas.clear()\n",
    "    pessoas['nome'] = str(input(\"Digite o nome : \"))\n",
    "    while True:\n",
    "        pessoas['sexo'] = str(input(\"Digite o sexo da pessoa [M/F]:\")).upper()[0]\n",
    "        if pessoas['sexo'] in 'MF' :\n",
    "            break\n",
    "        print(\"Por favor digite so  M ou F : \")\n",
    "    pessoas['idade'] = int(input(\"Digite a idade da peesoa :\"))\n",
    "    soma += pessoas['idade']\n",
    "    cadastro.append(pessoas.copy())\n",
    "    while True: \n",
    "        resposta = str(input(\"Deseja continuar ? : [S/N]\")).upper()[0]\n",
    "        if resposta in 'SN':\n",
    "            break\n",
    "        print(\"Por Favor digite so S ou N : \")\n",
    "    if resposta == 'N':\n",
    "        break\n",
    "linhas()\n",
    "print(f'Temos {len(cadastro)} pessoas cadastradas !!!!!')\n",
    "linhas()\n",
    "media = soma / len(cadastro)\n",
    "print(f\"A média das pessoas cadastrada é {media:5.2f} anos\")\n",
    "linhas()\n",
    "print(\"Total de mulheres cadastrada é\")\n",
    "for p in cadastro:\n",
    "    if p['sexo'] in 'F':\n",
    "        print(f\"{p['nome']} \")\n",
    "linhas()\n",
    "print(\"Pessoas que estão com a idade acima da media\")\n",
    "for p in cadastro:\n",
    "    if p['idade'] >= media:\n",
    "        print(f\"{p['nome']}\")\n",
    "linhas()"
   ]
  },
  {
   "cell_type": "markdown",
   "id": "97ed7fda",
   "metadata": {},
   "source": [
    "2 - Escreva um programa Python para criar um tupla com números de 1 a 4 e imprima um item "
   ]
  },
  {
   "cell_type": "code",
   "execution_count": 29,
   "id": "f5e25e96",
   "metadata": {},
   "outputs": [
    {
     "name": "stdout",
     "output_type": "stream",
     "text": [
      "3\n"
     ]
    }
   ],
   "source": [
    "tupla = (1, 2, 3, 4)\n",
    "print(tupla[2])"
   ]
  },
  {
   "cell_type": "markdown",
   "id": "e4b7776b",
   "metadata": {},
   "source": [
    "3 - Escreva um programa Python para desempacotar uma tupla em várias variáveis:\n",
    "considere um tupla = ('aluno', 'universidade', 'nota', 'resultado') e as variáveis w,x,y,z \n",
    "\n",
    "Consulte o tipo de dados de cada uma das variáveis e imprima os valores de cada uma delas."
   ]
  },
  {
   "cell_type": "code",
   "execution_count": 30,
   "id": "7178ca4b",
   "metadata": {},
   "outputs": [
    {
     "name": "stdout",
     "output_type": "stream",
     "text": [
      "Luciano\n",
      "Mentorama\n",
      "9.0\n",
      "aprovado\n"
     ]
    }
   ],
   "source": [
    "tupla = ('Luciano', 'Mentorama', '9.0', 'aprovado')\n",
    "w, x, y, z = tupla\n",
    "print(w)\n",
    "print(x)\n",
    "print(y)\n",
    "print(z)"
   ]
  },
  {
   "cell_type": "markdown",
   "id": "8b561cff",
   "metadata": {},
   "source": [
    "4 - Crie 3 conjunto conforme a estrutura a seguir:\n",
    "setx = set([\"apple\", \"mango\"])\n",
    "sety = set([\"mango\", \"orange\"])\n",
    "setz = set([\"mango\"])\n",
    "\n",
    "Faça as seguinte operações sobre conjuntos:\n",
    "A) Faça a união dos três conjuntos e imprima o resultado\n",
    "B) Verifique quais os elementos comuns do conjunto setx e sety e imprima o resultado\n",
    "C) Verifiqque se o conjunto setx é subconjunto do conjunto sety e setz ultilizando issubset()\n",
    "D) verifique quais elementos do conjunto setx não existem em sety"
   ]
  },
  {
   "cell_type": "code",
   "execution_count": 36,
   "id": "411114b8",
   "metadata": {},
   "outputs": [
    {
     "name": "stdout",
     "output_type": "stream",
     "text": [
      "--------------------------------------------------\n",
      "Resultado da lentra A do exercicio\n",
      "{'orange', 'mango', 'apple'}\n",
      "--------------------------------------------------\n",
      "--------------------------------------------------\n",
      "Resultado da lentra B do exercicio\n",
      "{'mango'}\n",
      "--------------------------------------------------\n",
      "Resultado da lentra C do exercicio\n",
      "False\n",
      "False\n",
      "--------------------------------------------------\n",
      "Resultado da lentra D do exercicio\n",
      "{'apple'}\n",
      "--------------------------------------------------\n"
     ]
    }
   ],
   "source": [
    "def linhas():\n",
    "    print('-' * 50)\n",
    "\n",
    "\n",
    "setx = set([\"apple\", \"mango\"])\n",
    "sety = set([\"mango\", \"orange\"])\n",
    "setz = set([\"mango\"])\n",
    "\n",
    "result_a = setx | sety | setz\n",
    "linhas()\n",
    "print(\"Resultado da lentra A do exercicio\")\n",
    "print(result_a)\n",
    "linhas()\n",
    "result_b = setx & sety\n",
    "linhas()\n",
    "print(\"Resultado da lentra B do exercicio\")\n",
    "print(result_b)\n",
    "linhas()\n",
    "print(\"Resultado da lentra C do exercicio\")\n",
    "print(setx.issubset(sety))\n",
    "print(setx.issubset(setz))\n",
    "linhas()\n",
    "result_d = setx - sety\n",
    "print(\"Resultado da lentra D do exercicio\")\n",
    "print(result_d)\n",
    "linhas()\n",
    "\n"
   ]
  },
  {
   "cell_type": "markdown",
   "id": "31231e29",
   "metadata": {},
   "source": [
    "5 - Escreva um programa Python para inserir um elemento no inicio de um determinado DicionárioOrdenado\n",
    "\n",
    "DicionáriOrdenado original\n",
    "dicionárioOrdenado ([('color1', 'Red'), ('color2', 'Green'), ('color3', 'Blue')])\n",
    "Insira o elemento no inicio do referido DicionárioOrdenado:\n",
    "DicionárioOrdenado atualizado:\n",
    "DicionárioOrdenado([('color4', 'Orange'), ('color1', 'Red'),('color2', 'Green'), ('color', 'Blue')])\n"
   ]
  },
  {
   "cell_type": "code",
   "execution_count": 43,
   "id": "ab518fdb",
   "metadata": {},
   "outputs": [
    {
     "name": "stdout",
     "output_type": "stream",
     "text": [
      "[('color4', 'Orange'), ('color1', 'Red'), ('color2', 'Green'), ('color3', 'Blue')]\n"
     ]
    }
   ],
   "source": [
    "dicionarioOrdenado = ([('color1', 'Red'),('color2', 'Green'), ('color3', 'Blue')])\n",
    "\n",
    "dicionarioOrdenado.insert(0,('color4', 'Orange'))\n",
    "print(dicionarioOrdenado)"
   ]
  },
  {
   "cell_type": "markdown",
   "id": "b03727ce",
   "metadata": {},
   "source": [
    "6 - Escreva um função chamada right_justify, que receba uma string chamada s como parâmetro e exiba a string com espaços suficiente á frente para que a última letra da string esteja na coluna 70 da tela:\n",
    "\n",
    "right_justify('monty')\n",
    "Dica: Use concatenação de string e repetição.Álem disso, o Python oferece uma função integrada chamada len, que apresenta o comprimento de um string, então o valor de len('monty') é 5 "
   ]
  },
  {
   "cell_type": "code",
   "execution_count": 111,
   "id": "2c324086",
   "metadata": {},
   "outputs": [
    {
     "name": "stdout",
     "output_type": "stream",
     "text": [
      "###############################################################luciano\n"
     ]
    }
   ],
   "source": [
    "def linhas(s):\n",
    "    result = 70 - len(s)\n",
    "    print('#' * result + s)\n",
    "    \n",
    "nome = 'luciano'\n",
    "linhas(nome)\n",
    "        \n",
    "        \n",
    "        \n",
    "    "
   ]
  },
  {
   "cell_type": "markdown",
   "id": "fe11c2ec",
   "metadata": {},
   "source": [
    "7 - Um Objeto de função é um valor que pode ser atribuído a uma variável ou passado como argumento e o chama duas vezes:\n",
    "def do_twice(f)\n",
    "    f()\n",
    "    f()\n",
    "Aqui está um exmplo que usa do_twice para chamar uma função chamada print_spam duas vezes:\n",
    "def print_spam()\n",
    "    print('spam')\n",
    "do_twice(print_spam)\n",
    "A) Digite este exemplo em um script e teste-0.\n",
    "B) Altere do_twice para que receba dois argumentos, um objeto de função e um valor, e chame a função duas vezes, passando o valor como um argumento."
   ]
  },
  {
   "cell_type": "code",
   "execution_count": 137,
   "id": "d4941170",
   "metadata": {},
   "outputs": [
    {
     "name": "stdout",
     "output_type": "stream",
     "text": [
      "luciano\n",
      "luciano\n"
     ]
    }
   ],
   "source": [
    "def do_twice(funcao, argumento):\n",
    "    funcao(argumento)\n",
    "    funcao(argumento)\n",
    "    \n",
    "def print_spam():\n",
    "    print()\n",
    "\n",
    "\n",
    "do_twice(print, 'luciano')\n"
   ]
  },
  {
   "cell_type": "markdown",
   "id": "9c592ed4",
   "metadata": {},
   "source": [
    "8 - Crie um programa que faça a impressão de uma mensagem e a multiplicação de dois números. Ultilize módulo e funções para resolução desse problema\n",
    "A) O usúario deve entrar com a mensagem e com o uso de módulos e funções, essa mensagem deve ser impressa na tela \n",
    "B) O usúrio deve entrar com os valores dos dois multiplicadores e o programa deve exibir o resultado na tela"
   ]
  },
  {
   "cell_type": "code",
   "execution_count": 4,
   "id": "6911d29f",
   "metadata": {},
   "outputs": [
    {
     "name": "stdout",
     "output_type": "stream",
     "text": [
      "Digiete a mensagem desejada:luciano lindao\n",
      "luciano lindao\n",
      "Digite o primeiro número:3\n",
      "DIgite o segundo número:2\n"
     ]
    },
    {
     "data": {
      "text/plain": [
       "6"
      ]
     },
     "execution_count": 4,
     "metadata": {},
     "output_type": "execute_result"
    }
   ],
   "source": [
    "def mensagem(s):\n",
    "    print(s)\n",
    "def multiplicacao(x, y):\n",
    "    return x * y\n",
    "\n",
    "mesagem = str(input(\"Digiete a mensagem desejada:\"))\n",
    "mensagem(mesagem)\n",
    "\n",
    "n1 = int(input(\"Digite o primeiro número:\"))\n",
    "n2 = int(input(\"DIgite o segundo número:\"))\n",
    "\n",
    "multiplicacao(n1, n2)\n",
    "#nesse exercicio não entendi muito bem como import um modulo produzido por min "
   ]
  },
  {
   "cell_type": "markdown",
   "id": "8df05c83",
   "metadata": {},
   "source": [
    "9 - Dada uma lista encadeada de caracteres formada por uma sequêcia alternada de letras e digitos, construa um método que retorne um lista na qual as letras são mantidas na sequência original e os digitos são colocados na ordem inversa. Exemplos:\n",
    "\n",
    "    A 1 E 5 T 7 W 8 G -> A E T W G 8 7 5 1 \n",
    "    3 C 9 H 4 Q 6 -> C H Q 6 4 9 3 \n",
    "como mostram os exemplos, as letras devem ser mostradas primeiro, seguidas dos digitos. Sugestôes:\n",
    "A)usar uma fila e uma pilha;\n",
    "B)supor um metodo ehDigito() que retorna um valor booleano, como por exemplo, verdadeiro caso um caractere seja um digito\n",
    "\n"
   ]
  },
  {
   "cell_type": "code",
   "execution_count": 1,
   "id": "26ad4e62",
   "metadata": {},
   "outputs": [
    {
     "name": "stdout",
     "output_type": "stream",
     "text": [
      "--------------------------------------------------\n",
      "['A', 'E', 'T', 'W', 'G', '8', '7', '5', '1']\n",
      "--------------------------------------------------\n",
      "['C', 'H', 'Q', '9', '6', '4', '3']\n",
      "--------------------------------------------------\n"
     ]
    }
   ],
   "source": [
    "def logica(x):\n",
    "  letra = list()\n",
    "  numeros = list()\n",
    "  for caractere in x :\n",
    "    if caractere.isdigit():\n",
    "      numeros.append(caractere)\n",
    "    else:\n",
    "      letra.append(caractere)\n",
    "  numeros.sort(reverse = True)\n",
    "  x = letra + numeros \n",
    "  return x       \n",
    "\n",
    "\n",
    "lista = 'A''1''E''5''T''7''W''8''G'\n",
    "lista2 = '3''C''9''H''4''Q''6' \n",
    "print('-' * 50)\n",
    "print(logica(lista))\n",
    "print('-' * 50)\n",
    "print(logica(lista2))\n",
    "print('-' * 50)\n"
   ]
  },
  {
   "cell_type": "code",
   "execution_count": null,
   "id": "2651a6e4",
   "metadata": {},
   "outputs": [],
   "source": []
  }
 ],
 "metadata": {
  "kernelspec": {
   "display_name": "Python 3.10.4 64-bit",
   "language": "python",
   "name": "python3"
  },
  "language_info": {
   "codemirror_mode": {
    "name": "ipython",
    "version": 3
   },
   "file_extension": ".py",
   "mimetype": "text/x-python",
   "name": "python",
   "nbconvert_exporter": "python",
   "pygments_lexer": "ipython3",
   "version": "3.10.4"
  },
  "vscode": {
   "interpreter": {
    "hash": "916dbcbb3f70747c44a77c7bcd40155683ae19c65e1c03b4aa3499c5328201f1"
   }
  }
 },
 "nbformat": 4,
 "nbformat_minor": 5
}
