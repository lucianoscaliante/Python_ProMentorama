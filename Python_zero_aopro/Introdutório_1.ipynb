{
 "cells": [
  {
   "cell_type": "markdown",
   "id": "b1af0b60",
   "metadata": {},
   "source": [
    "# Exercicios  Modulo - 1\n",
    "\n",
    "1 - Faça um programa que imprima seu nome completo na tela.\n"
   ]
  },
  {
   "cell_type": "code",
   "execution_count": 1,
   "id": "5ba74073",
   "metadata": {},
   "outputs": [
    {
     "name": "stdout",
     "output_type": "stream",
     "text": [
      "Luciano Aparecido Scaliante Junior\n"
     ]
    }
   ],
   "source": [
    "print(\"Luciano Aparecido Scaliante Junior\")"
   ]
  },
  {
   "cell_type": "markdown",
   "id": "f1544f98",
   "metadata": {},
   "source": [
    "2 - Escreva uma programa que exiba o resultado de 5a x 3b onde a = 2 e b = 5."
   ]
  },
  {
   "cell_type": "code",
   "execution_count": null,
   "id": "b9d04d04",
   "metadata": {},
   "outputs": [],
   "source": [
    "a = 2\n",
    "b = 5\n",
    "int = resultado\n",
    "\n",
    "resultado = 0\n",
    "\n",
    "resultado = (5 * a) * (3 * b)\n",
    "\n",
    "print(\"resultado da soma é:\", resultado)"
   ]
  },
  {
   "cell_type": "markdown",
   "id": "09c4bc76",
   "metadata": {},
   "source": [
    "3 - Modifique o programa anterior, inserindo uma terceira variável c = 5 e imprima a soma das três variáveis."
   ]
  },
  {
   "cell_type": "code",
   "execution_count": 1,
   "id": "eee0cd21",
   "metadata": {},
   "outputs": [
    {
     "name": "stdout",
     "output_type": "stream",
     "text": [
      "resultado da soma das variáveis é: 12\n"
     ]
    }
   ],
   "source": [
    "a = 2\n",
    "b = 5\n",
    "c = 5\n",
    "\n",
    "\n",
    "resultado = 0\n",
    "\n",
    "resultado = a + b + c\n",
    "\n",
    "print(\"resultado da soma das variáveis é:\", resultado)"
   ]
  },
  {
   "cell_type": "markdown",
   "id": "86dd36b0",
   "metadata": {},
   "source": [
    "4 - Escreva um programa que leia dois números e que pergunte qual operação você deseja realizar.Você deve  poder calcular\n",
    "a soma(+), subtração(-), multiplicação(*) e divisão(/).Exiba o resultado da operação."
   ]
  },
  {
   "cell_type": "code",
   "execution_count": null,
   "id": "aa7d1ce5",
   "metadata": {},
   "outputs": [],
   "source": [
    "n1 = 0\n",
    "n2 = 0\n",
    "resultado = 0\n",
    "operador = ''\n",
    "\n",
    "n1 = int(input('Digite o primeiro número: '))\n",
    "operador = input('Digite o operador: ')\n",
    "n2 = int(input('Digite o segundo número: '))\n",
    "\n",
    "if operador == '+':\n",
    "    resultado = n1 + n2 \n",
    "    \n",
    "elif operador == '-':\n",
    "    resultado = n1 - n2\n",
    "\n",
    "elif operador == '*':\n",
    "    resultado = n1 * n2\n",
    "    \n",
    "elif operador == '/':\n",
    "    resultado = n1 / n2\n",
    "\n",
    "    \n",
    "print('-----------------------------------')\n",
    "print('------RESULTADO--DO--CALCULO-------')\n",
    "print('resultado é:', n1,'', operador,'', n2,'=', resultado)\n",
    "print('-----------------------------------')"
   ]
  },
  {
   "cell_type": "markdown",
   "id": "07dcc8f9",
   "metadata": {},
   "source": [
    "5 - Escreva um programa para contar de 1 até 10.\n",
    "A) Usando a instrução while"
   ]
  },
  {
   "cell_type": "code",
   "execution_count": 2,
   "id": "a61111eb",
   "metadata": {},
   "outputs": [
    {
     "name": "stdout",
     "output_type": "stream",
     "text": [
      "1\n",
      "2\n",
      "3\n",
      "4\n",
      "5\n",
      "6\n",
      "7\n",
      "8\n",
      "9\n",
      "10\n"
     ]
    }
   ],
   "source": [
    "contador = 1 \n",
    "while contador <= 10:\n",
    "    print(contador)\n",
    "    contador = contador + 1"
   ]
  },
  {
   "cell_type": "markdown",
   "id": "e73e03de",
   "metadata": {},
   "source": [
    "B)Usando a instrução for e a função range "
   ]
  },
  {
   "cell_type": "code",
   "execution_count": 8,
   "id": "144a43d8",
   "metadata": {},
   "outputs": [
    {
     "name": "stdout",
     "output_type": "stream",
     "text": [
      "1\n",
      "2\n",
      "3\n",
      "4\n",
      "5\n",
      "6\n",
      "7\n",
      "8\n",
      "9\n",
      "10\n"
     ]
    }
   ],
   "source": [
    "contador = [1,2,3,4,5,6,7,8,9,10]\n",
    "for x in contador:\n",
    "    print(x)\n",
    "    "
   ]
  },
  {
   "cell_type": "markdown",
   "id": "40b093a8",
   "metadata": {},
   "source": [
    "Usando a função range "
   ]
  },
  {
   "cell_type": "code",
   "execution_count": null,
   "id": "f0c93952",
   "metadata": {},
   "outputs": [],
   "source": [
    "contador = 1 \n",
    "for x in range (1,11):\n",
    "    print(contador)\n",
    "    contador = contador + 1"
   ]
  },
  {
   "cell_type": "markdown",
   "id": "6cd32c00",
   "metadata": {},
   "source": [
    "6 - Escreva um programa para contar quantos números pares e impares existentes entre 1 e 10 bem como a soma deles.\n",
    "A) Usando a instrução while"
   ]
  },
  {
   "cell_type": "code",
   "execution_count": 5,
   "id": "adc0b09f",
   "metadata": {},
   "outputs": [
    {
     "name": "stdout",
     "output_type": "stream",
     "text": [
      "Na contagem de 1 até 10 temos 5 números PAR\n",
      "Na contagem de 1 até 10 temos 5 números IMPAR\n"
     ]
    }
   ],
   "source": [
    "acumuladorPar = 0\n",
    "acumuladorImpar = 0\n",
    "contador = 1\n",
    "while contador <= 10:\n",
    "  if (contador%2) == 0:\n",
    "    acumuladorPar += 1\n",
    "    contador = contador + 1\n",
    "  else :\n",
    "    acumuladorImpar += 1\n",
    "    contador = contador + 1\n",
    "\n",
    "print('Na contagem de 1 até 10 temos', acumuladorPar, 'números PAR')\n",
    "print('Na contagem de 1 até 10 temos', acumuladorImpar, 'números IMPAR')\n",
    "     "
   ]
  },
  {
   "cell_type": "markdown",
   "id": "0b3bf1c2",
   "metadata": {},
   "source": [
    "Usando a instrução FOR"
   ]
  },
  {
   "cell_type": "code",
   "execution_count": 24,
   "id": "45d93e71",
   "metadata": {},
   "outputs": [
    {
     "name": "stdout",
     "output_type": "stream",
     "text": [
      "0\n",
      "Na contagem de 1 até 10 temos 5 números PAR\n",
      "Na contagem de 1 até 10 temos 5 números IMPAR\n"
     ]
    }
   ],
   "source": [
    "somaPar = 0\n",
    "somaImpar = 0\n",
    "acumuladorPar = 0\n",
    "acumuladorImpar = 0\n",
    "contador = [1,2,3,4,5,6,7,8,9,10]\n",
    "for x in contador:\n",
    "  if (x%2) == 0:\n",
    "    acumuladorPar += 1\n",
    "  else:\n",
    "    acumuladorImpar += 1 \n",
    "\n",
    "print(somaPar)\n",
    "print('Na contagem de 1 até 10 temos', acumuladorPar, 'números PAR')\n",
    "print('Na contagem de 1 até 10 temos', acumuladorImpar, 'números IMPAR')"
   ]
  },
  {
   "cell_type": "markdown",
   "id": "f9558b55",
   "metadata": {},
   "source": [
    "Usando instrução range"
   ]
  },
  {
   "cell_type": "code",
   "execution_count": 26,
   "id": "9ef9a027",
   "metadata": {},
   "outputs": [
    {
     "name": "stdout",
     "output_type": "stream",
     "text": [
      "Na contagem de 1 até 10 temos 5 números PAR\n",
      "Na contagem de 1 até 10 temos 5 números IMPAR\n"
     ]
    }
   ],
   "source": [
    "acumuladorPar = 0\n",
    "acumuladorImpar = 0\n",
    "contador = 1 \n",
    "for x in range (1,11):\n",
    "    if (contador%2) == 0:\n",
    "        acumuladorPar += 1\n",
    "        contador = contador + 1\n",
    "    else:\n",
    "        acumuladorImpar += 1\n",
    "        contador = contador + 1\n",
    "\n",
    "print('Na contagem de 1 até 10 temos', acumuladorPar, 'números PAR')\n",
    "print('Na contagem de 1 até 10 temos', acumuladorImpar, 'números IMPAR')"
   ]
  },
  {
   "cell_type": "markdown",
   "id": "ec59d1c6",
   "metadata": {},
   "source": [
    "Não sei se ta certo mas usei a funçao SUM para fazer a soma dos numero de 1 até 10."
   ]
  },
  {
   "cell_type": "code",
   "execution_count": 27,
   "id": "77bbfc79",
   "metadata": {},
   "outputs": [
    {
     "name": "stdout",
     "output_type": "stream",
     "text": [
      "A soma dos numero de 1 até 10 com a função sum: 55\n"
     ]
    }
   ],
   "source": [
    "numero = [1,2,3,4,5,6,7,8,9,10]\n",
    "\n",
    "numeros_sum = sum(numero)\n",
    "print(\"A soma dos numero de 1 até 10 com a função sum:\", numeros_sum)"
   ]
  },
  {
   "cell_type": "markdown",
   "id": "828b98d9",
   "metadata": {},
   "source": [
    "7 - Escreva um programa para resolver equações de segundo grau representadas por ax²+bx+c usando a Fórmula de Bhaskara\n",
    "A) sem usar o módulo math"
   ]
  },
  {
   "cell_type": "code",
   "execution_count": 28,
   "id": "74168223",
   "metadata": {},
   "outputs": [
    {
     "name": "stdout",
     "output_type": "stream",
     "text": [
      "---------------------------------------------------------\n",
      "Vamos calcular as raizes de uma euqação de segundo grau\n",
      "---------------------------------------------------------\n",
      "Digite o coefiente a=:1\n",
      "Digite o coefiente b=:-5\n",
      "Digite o coefiente c=:6\n",
      "------------------------------------------\n",
      "------Resultado--Da--Equação--De--Segundo--Grau\n",
      "Delta da equação =  1.0\n",
      "A raiz do delta =  1.0\n",
      "Resultado do X1 = 3.0\n",
      "Resultado do X2 = 2.0\n",
      "-------------------------------------------\n"
     ]
    }
   ],
   "source": [
    "print(\"---------------------------------------------------------\")\n",
    "print(\"Vamos calcular as raizes de uma euqação de segundo grau\")\n",
    "print(\"---------------------------------------------------------\")\n",
    "\n",
    "a = float(input('Digite o coefiente a=:'))\n",
    "b = float(input('Digite o coefiente b=:'))\n",
    "c = float(input('Digite o coefiente c=:'))\n",
    "\n",
    "delta = b ** 2 - 4 * a * c\n",
    "raizdelta = delta ** 0.5\n",
    "\n",
    "x1 = (-b + raizdelta) / (2 * a)\n",
    "\n",
    "x2 = (-b - raizdelta) / (2 * a)\n",
    "\n",
    "print(\"------------------------------------------\")\n",
    "print(\"------Resultado--Da--Equação--De--Segundo--Grau\")\n",
    "print('Delta da equação = ', delta)\n",
    "print('A raiz do delta = ', raizdelta)\n",
    "print('Resultado do X1 =', x1)\n",
    "print('Resultado do X2 =', x2)\n",
    "print(\"-------------------------------------------\")"
   ]
  },
  {
   "cell_type": "markdown",
   "id": "7bef72a9",
   "metadata": {},
   "source": [
    "B) Usando o modúlo math "
   ]
  },
  {
   "cell_type": "code",
   "execution_count": null,
   "id": "688c4a07",
   "metadata": {},
   "outputs": [],
   "source": [
    "import math \n",
    "\n",
    "print(\"---------------------------------------------------------\")\n",
    "print(\"Vamos calcular as raizes de uma euqação de segundo grau usando a função MATH\")\n",
    "print(\"---------------------------------------------------------\")\n",
    "\n",
    "a = float(input('Digite o coefiente a=:'))\n",
    "b = float(input('Digite o coefiente b=:'))\n",
    "c = float(input('Digite o coefiente c=:'))\n",
    "\n",
    "delta = math.pow(b,2) - 4 * a * c\n",
    "raizdelta = math.sqrt(delta)\n",
    "\n",
    "if raizdelta < 0 : \n",
    "    print('Raiz do delta foi menor que 0 então não e uma equação de segundo grau')    \n",
    "else:\n",
    "    x1 = (-b + raizdelta) / (2 * a)\n",
    "\n",
    "    x2 = (-b - raizdelta) / (2 * a)\n",
    "\n",
    "    print(\"------------------------------------------\")\n",
    "    print(\"------Resultado--Da--Equação--De--Segundo--Grau\")\n",
    "    print('Delta da equação = ', delta)\n",
    "    print('A raiz do delta = ', raizdelta)\n",
    "    print('Resultado do X1 =', x1)\n",
    "    print('Resultado do X2 =', x2)\n",
    "    print(\"-------------------------------------------\")\n",
    "\n"
   ]
  },
  {
   "cell_type": "markdown",
   "id": "d66e233d",
   "metadata": {},
   "source": [
    "8 - Vamos reescrever o programa acima criando uma função bhaskara que recebe como parâmetro os coeficentes \n",
    "a, b e c e retorna as raizes da equação.\n",
    "\n",
    "Responda as questões a seguir:\n",
    "A) O que significam palavras reservadas em Python? Quais são as palavras reservadas no código acima?\n",
    "\n",
    "R: As palavras reservada em python definem as regras da sintaxe e estrutura a linguagem. No codigo acima temos as palavras (def, if, else, return e None).\n",
    "\n",
    "B) Qual a função de cada uma dessas palavras reservadas no código ?\n",
    "\n",
    "R: def essa palavra e usada para começar estrutura uma função. \n",
    "   if e else nessas palavras iramos testar os parametro passado acima.\n",
    "   return essa palavra tera que retorna almga coisa para o usúario.\n",
    "   None essa palavra e usando quando o returno de uma função returna vazio.\n",
    "   \n",
    "C) Implemente a função acima e mostre na tela, o reasultado da equação de segundo grau"
   ]
  },
  {
   "cell_type": "code",
   "execution_count": 10,
   "id": "d0fa995e",
   "metadata": {},
   "outputs": [
    {
     "name": "stdout",
     "output_type": "stream",
     "text": [
      "Digite o coefiente a=:1\n",
      "Digite o coefiente b=:-6\n",
      "Digite o coefiente c=:10\n",
      "euqação sem raiz de delta\n",
      "None\n"
     ]
    }
   ],
   "source": [
    "import math\n",
    "\n",
    "\n",
    "def bashkara(a, b, c):\n",
    "  delta = b ** 2 -4 * a *c\n",
    "  if (delta < 0):\n",
    "    print(\"euqação sem raiz de delta\")\n",
    "  else:\n",
    "     raizes = []\n",
    "     m1 = math.sqrt(delta)\n",
    "     r1 = (-b + m1) / (2 * a )\n",
    "     raizes.append(r1)\n",
    "     r2 = (-b -m1) / (2 * a )\n",
    "     raizes.append(r2)\n",
    "     return raizes\n",
    "  \n",
    "\n",
    "a = float(input('Digite o coefiente a=:'))\n",
    "b = float(input('Digite o coefiente b=:'))\n",
    "c = float(input('Digite o coefiente c=:'))\n",
    "\n",
    "print(bashkara(a, b, c))"
   ]
  },
  {
   "cell_type": "markdown",
   "id": "f4e0caae",
   "metadata": {},
   "source": [
    "9 - Considerando a string s = 'Mentorama' escreva um programa que :\n",
    "A) converta a string para maiúsculo, em seguida\n",
    "B) imprima-a de trás pra frente \n",
    "C) imprima somente as vogais"
   ]
  },
  {
   "cell_type": "code",
   "execution_count": 23,
   "id": "af85a77f",
   "metadata": {},
   "outputs": [
    {
     "name": "stdout",
     "output_type": "stream",
     "text": [
      "MENTORAMA\n",
      "amarotneM\n",
      "eoaa\n"
     ]
    }
   ],
   "source": [
    "texto_minusculo = 'Mentorama'\n",
    "\n",
    "s = texto_minusculo.upper()\n",
    "print(s)\n",
    "\n",
    "tras_pra_frente = texto_minusculo[::-1]\n",
    "print(tras_pra_frente)\n",
    "\n",
    "contador = \"\"\n",
    "vogais = \"a\", \"e\", \"i\", \"o\", \"u\"\n",
    "for x in texto_minusculo:\n",
    "    if x in vogais:\n",
    "        contador += x\n",
    "print(contador)\n"
   ]
  },
  {
   "cell_type": "markdown",
   "id": "1b006a74",
   "metadata": {},
   "source": [
    "10 - Escreva um programa que receba como enbtrada do usuário o nome \"João\" Sobrenome \"da silva\", idade \"25\", Cidade \"São Paulo\",ddd \"11\", telefone \"3333-3333\" e faça~as seguinte intruções:\n",
    "\n",
    "A) imprima na tela o nome completo em uma única linha \n",
    "B) imprima na tela o telefone com ddd em uma única linha \n",
    "C) imprima na tela a idade\n",
    "D) imprima na tela a cidade\n"
   ]
  },
  {
   "cell_type": "code",
   "execution_count": 25,
   "id": "70455298",
   "metadata": {},
   "outputs": [
    {
     "name": "stdout",
     "output_type": "stream",
     "text": [
      "Digite o nome:João\n",
      "Digite o sobrenomeda Silva\n",
      "Digite sua idade25\n",
      "Digite sua cidadeSão Paulo\n",
      "--------------------------------------------------\n",
      "Digite seu telefone primeiro o DDD depois o telefone\n",
      "Digite o DDD do seu telefone11\n",
      "Digite o telefone3333-3333\n",
      "--------------------------------------------------\n",
      "Dados do candidato\n",
      "--------------------------------------------------\n",
      "João da Silva\n",
      "( 11 ) 3333-3333\n",
      "25 anos\n",
      "São Paulo\n",
      "--------------------------------------------------\n",
      "--------------------------------------------------\n"
     ]
    }
   ],
   "source": [
    "def linhas():\n",
    "    print('-' * 50)\n",
    "def titulo():\n",
    "    print('Dados do candidato')\n",
    "\n",
    "    \n",
    "nome = input('Digite o nome:')\n",
    "sobrenome = input('Digite o sobrenome')\n",
    "idade = input('Digite sua idade')\n",
    "cidade = input('Digite sua cidade')\n",
    "linhas()\n",
    "print(\"Digite seu telefone primeiro o DDD depois o telefone\")\n",
    "ddd = input('Digite o DDD do seu telefone')\n",
    "telefone = input('Digite o telefone')\n",
    "\n",
    "linhas()\n",
    "titulo()\n",
    "linhas()\n",
    "print( nome, sobrenome)\n",
    "print( '(', ddd, ')', telefone)\n",
    "print( idade, 'anos')\n",
    "print( cidade)\n",
    "linhas()\n",
    "linhas()"
   ]
  },
  {
   "cell_type": "code",
   "execution_count": null,
   "id": "3aae3822",
   "metadata": {},
   "outputs": [],
   "source": []
  }
 ],
 "metadata": {
  "kernelspec": {
   "display_name": "Python 3",
   "language": "python",
   "name": "python3"
  },
  "language_info": {
   "codemirror_mode": {
    "name": "ipython",
    "version": 3
   },
   "file_extension": ".py",
   "mimetype": "text/x-python",
   "name": "python",
   "nbconvert_exporter": "python",
   "pygments_lexer": "ipython3",
   "version": "3.8.8"
  }
 },
 "nbformat": 4,
 "nbformat_minor": 5
}
